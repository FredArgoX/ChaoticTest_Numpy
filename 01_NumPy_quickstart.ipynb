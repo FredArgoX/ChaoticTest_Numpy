{
  "nbformat": 4,
  "nbformat_minor": 0,
  "metadata": {
    "colab": {
      "provenance": [],
      "authorship_tag": "ABX9TyPHs50CqJwR9Bz1Y4j2NplO",
      "include_colab_link": true
    },
    "kernelspec": {
      "name": "python3",
      "display_name": "Python 3"
    },
    "language_info": {
      "name": "python"
    }
  },
  "cells": [
    {
      "cell_type": "markdown",
      "metadata": {
        "id": "view-in-github",
        "colab_type": "text"
      },
      "source": [
        "<a href=\"https://colab.research.google.com/github/FredArgoX/ChaoticTest_Numpy/blob/main/01_NumPy_quickstart.ipynb\" target=\"_parent\"><img src=\"https://colab.research.google.com/assets/colab-badge.svg\" alt=\"Open In Colab\"/></a>"
      ]
    },
    {
      "cell_type": "markdown",
      "source": [
        "Source: [NumPy Quickstart](https://numpy.org/doc/stable/user/quickstart.html)"
      ],
      "metadata": {
        "id": "4s4imJPfwhSL"
      }
    },
    {
      "cell_type": "markdown",
      "source": [
        "# The basics"
      ],
      "metadata": {
        "id": "9SMEO0lJwwOH"
      }
    },
    {
      "cell_type": "markdown",
      "source": [
        "### An example"
      ],
      "metadata": {
        "id": "ROOxF24Yw3Ji"
      }
    },
    {
      "cell_type": "markdown",
      "source": [
        "### Array creation"
      ],
      "metadata": {
        "id": "eqYQdub-w5UP"
      }
    },
    {
      "cell_type": "markdown",
      "source": [
        "### Printing arrays"
      ],
      "metadata": {
        "id": "G-PeO0n4xDv8"
      }
    },
    {
      "cell_type": "markdown",
      "source": [
        "### Basic operations"
      ],
      "metadata": {
        "id": "hda-hT67xIWr"
      }
    },
    {
      "cell_type": "markdown",
      "source": [
        "### Universal functions"
      ],
      "metadata": {
        "id": "1yYl3GXnxMVt"
      }
    },
    {
      "cell_type": "markdown",
      "source": [
        "### Indexing, slicing and iterating"
      ],
      "metadata": {
        "id": "lr6NpQrhxPFw"
      }
    },
    {
      "cell_type": "markdown",
      "source": [
        "# Shape manipulation"
      ],
      "metadata": {
        "id": "JYMXkuZ9xTbA"
      }
    },
    {
      "cell_type": "markdown",
      "source": [
        "### Changing the shape of an array"
      ],
      "metadata": {
        "id": "LlYdayHexV8M"
      }
    },
    {
      "cell_type": "markdown",
      "source": [
        "### Stacking together different arrays"
      ],
      "metadata": {
        "id": "qF1EeYldxaCs"
      }
    },
    {
      "cell_type": "markdown",
      "source": [
        "### Splitting one aray into several smaller ones"
      ],
      "metadata": {
        "id": "t7D8DZoqxesk"
      }
    },
    {
      "cell_type": "markdown",
      "source": [
        "# Copies and views"
      ],
      "metadata": {
        "id": "jPg0Fvqaxm50"
      }
    },
    {
      "cell_type": "markdown",
      "source": [
        "### No copy at all"
      ],
      "metadata": {
        "id": "ZFCwC4ZMxpoH"
      }
    },
    {
      "cell_type": "markdown",
      "source": [
        "### View or shallow copy"
      ],
      "metadata": {
        "id": "bFKRCqrKxsoZ"
      }
    },
    {
      "cell_type": "markdown",
      "source": [
        "### Deep copy"
      ],
      "metadata": {
        "id": "n7U2AKpGxwOD"
      }
    },
    {
      "cell_type": "markdown",
      "source": [
        "### Functions and methods overview"
      ],
      "metadata": {
        "id": "5kFdpX2Yx1Oa"
      }
    },
    {
      "cell_type": "markdown",
      "source": [
        "# Less basic"
      ],
      "metadata": {
        "id": "5lH-J38Bx6xg"
      }
    },
    {
      "cell_type": "markdown",
      "source": [
        "### Broadcasting rules"
      ],
      "metadata": {
        "id": "auFj4UH6x9pE"
      }
    },
    {
      "cell_type": "markdown",
      "source": [
        "# Advanced indexing and index tricks"
      ],
      "metadata": {
        "id": "YPOlNLh7yBZ1"
      }
    },
    {
      "cell_type": "markdown",
      "source": [
        "### Indexing with arrays of indices"
      ],
      "metadata": {
        "id": "Ps24zZw3yEt1"
      }
    },
    {
      "cell_type": "markdown",
      "source": [
        "### Indexing with boolean arrays"
      ],
      "metadata": {
        "id": "WceAmH1PyVA4"
      }
    },
    {
      "cell_type": "markdown",
      "source": [
        "### The ix_() function"
      ],
      "metadata": {
        "id": "itl7bpSQyfRv"
      }
    },
    {
      "cell_type": "markdown",
      "source": [
        "### Indexing with strings"
      ],
      "metadata": {
        "id": "2xui3P5YyjqG"
      }
    },
    {
      "cell_type": "markdown",
      "source": [
        "# Tricks and tips"
      ],
      "metadata": {
        "id": "KZF32dioymqg"
      }
    },
    {
      "cell_type": "markdown",
      "source": [
        "### Automatic reshaping"
      ],
      "metadata": {
        "id": "H77JHeNfyqqZ"
      }
    },
    {
      "cell_type": "markdown",
      "source": [
        "### Vector stacking"
      ],
      "metadata": {
        "id": "t1XhUAm4ytrN"
      }
    },
    {
      "cell_type": "markdown",
      "source": [
        "### Histograms"
      ],
      "metadata": {
        "id": "2s4ecD_kywr-"
      }
    }
  ]
}