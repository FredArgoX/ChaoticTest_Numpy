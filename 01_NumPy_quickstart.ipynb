{
  "nbformat": 4,
  "nbformat_minor": 0,
  "metadata": {
    "colab": {
      "provenance": [],
      "authorship_tag": "ABX9TyPV/vpSeNhuS8OytnGR2pc5",
      "include_colab_link": true
    },
    "kernelspec": {
      "name": "python3",
      "display_name": "Python 3"
    },
    "language_info": {
      "name": "python"
    }
  },
  "cells": [
    {
      "cell_type": "markdown",
      "metadata": {
        "id": "view-in-github",
        "colab_type": "text"
      },
      "source": [
        "<a href=\"https://colab.research.google.com/github/FredArgoX/ChaoticTest_Numpy/blob/main/01_NumPy_quickstart.ipynb\" target=\"_parent\"><img src=\"https://colab.research.google.com/assets/colab-badge.svg\" alt=\"Open In Colab\"/></a>"
      ]
    },
    {
      "cell_type": "markdown",
      "source": [
        "Source: [NumPy Quickstart](https://numpy.org/doc/stable/user/quickstart.html)"
      ],
      "metadata": {
        "id": "4s4imJPfwhSL"
      }
    },
    {
      "cell_type": "markdown",
      "source": [
        "# The basics"
      ],
      "metadata": {
        "id": "9SMEO0lJwwOH"
      }
    },
    {
      "cell_type": "markdown",
      "source": [
        "NumPy's main object is the homogeneous multidimensional array. It is a table of elements (usually numbers), all of the same type, indexed by a tuple of non-negative integers. In NumPy dimensions are called axes.\n",
        "\n",
        "Fo example, the array for the coordinates of a point in 3D space, `[1, 2, 1]`, has one axis. That axis has 3 elements in it, so we say it has a length of 3. In the example pictured below, the array has 2 axes. The first axis has a length of 2, the second axis has a length of 3"
      ],
      "metadata": {
        "id": "-aMytRWL_fxy"
      }
    },
    {
      "cell_type": "code",
      "source": [
        "[[1., 0., 0.],\n",
        " [0., 1., 2.]]"
      ],
      "metadata": {
        "id": "GufxzPANAymf"
      },
      "execution_count": null,
      "outputs": []
    },
    {
      "cell_type": "markdown",
      "source": [
        "NumPy's array class is called `ndarray`. It is also known by the alias `array`. Note that `numpy.array` is not the same as the Standard Python Library class `array.array`, which only handles one-dimensional arrays and offers less functionality. The more important attributes of an `ndarray` object are:\n",
        "\n",
        "- `ndarray.ndim`: the number of axes (dimensions) of the array.\n",
        "\n",
        "- `ndarray.shape`: the dimensions of the array. This is a tuple of integers indicating the size of the array in each dimension. For a matrix with *n* rows and *m* columns, `shape` will be `(n,m)`. The length of the `shape` tuple is therefore the number of axes, `ndim`.\n",
        "\n",
        "- `ndarray.size`: the total number of elements of the array. This is equal to the product of the elements of `shape`.\n",
        "\n",
        "- `ndarray.dtype`: an object describing the type of the elements in the array. One can create or specify dtype's using standard Python types. Additionaly NumPy provides types of its own. numpy.int32, numpy.int16, and numpy.float64 are some examples.\n",
        "\n",
        "- `ndarray.itemsize`: the size in bytes of each element of the array. For example, an array of elements of type `float64` has `itemsize` 8 (=64/8), while one of type `complex32` has `itemsize` 4 (=32/8). It is equivalent to `ndarray.dtype.itemsize`.\n",
        "\n",
        "- `ndarray.data`: the buffer containing the actual elemenets of the array. Normally, we won't need to use this attribute because we will access the elements in an array using indexing facilities."
      ],
      "metadata": {
        "id": "xTnIJDC6BJxJ"
      }
    },
    {
      "cell_type": "markdown",
      "source": [
        "### An example"
      ],
      "metadata": {
        "id": "ROOxF24Yw3Ji"
      }
    },
    {
      "cell_type": "code",
      "source": [
        "import numpy as np\n",
        "\n",
        "a = np.arange(15).reshape(3, 5)\n",
        "a"
      ],
      "metadata": {
        "colab": {
          "base_uri": "https://localhost:8080/"
        },
        "id": "nrlmqjiXEzTh",
        "outputId": "02c040b5-1245-424f-cbec-1b33d4109174"
      },
      "execution_count": 1,
      "outputs": [
        {
          "output_type": "execute_result",
          "data": {
            "text/plain": [
              "array([[ 0,  1,  2,  3,  4],\n",
              "       [ 5,  6,  7,  8,  9],\n",
              "       [10, 11, 12, 13, 14]])"
            ]
          },
          "metadata": {},
          "execution_count": 1
        }
      ]
    },
    {
      "cell_type": "code",
      "source": [
        "a.ndim"
      ],
      "metadata": {
        "colab": {
          "base_uri": "https://localhost:8080/"
        },
        "id": "q8Q1uw-fFFA0",
        "outputId": "6e6e275f-4837-403f-96c1-079f16c05bc0"
      },
      "execution_count": 2,
      "outputs": [
        {
          "output_type": "execute_result",
          "data": {
            "text/plain": [
              "2"
            ]
          },
          "metadata": {},
          "execution_count": 2
        }
      ]
    },
    {
      "cell_type": "code",
      "source": [
        "a.shape"
      ],
      "metadata": {
        "colab": {
          "base_uri": "https://localhost:8080/"
        },
        "id": "UFIdgg2GFNSO",
        "outputId": "4ba3c12f-fb6a-45ee-e394-3e8fee8399ad"
      },
      "execution_count": 3,
      "outputs": [
        {
          "output_type": "execute_result",
          "data": {
            "text/plain": [
              "(3, 5)"
            ]
          },
          "metadata": {},
          "execution_count": 3
        }
      ]
    },
    {
      "cell_type": "code",
      "source": [
        "a.size"
      ],
      "metadata": {
        "colab": {
          "base_uri": "https://localhost:8080/"
        },
        "id": "oAvoiGpIFRHT",
        "outputId": "8209a503-9f90-4452-8867-fe98dae8b1af"
      },
      "execution_count": 4,
      "outputs": [
        {
          "output_type": "execute_result",
          "data": {
            "text/plain": [
              "15"
            ]
          },
          "metadata": {},
          "execution_count": 4
        }
      ]
    },
    {
      "cell_type": "code",
      "source": [
        "a.dtype"
      ],
      "metadata": {
        "colab": {
          "base_uri": "https://localhost:8080/"
        },
        "id": "WL-zOjVCFTXo",
        "outputId": "54520b4b-3b1b-4474-f86f-76260e5d7697"
      },
      "execution_count": 5,
      "outputs": [
        {
          "output_type": "execute_result",
          "data": {
            "text/plain": [
              "dtype('int64')"
            ]
          },
          "metadata": {},
          "execution_count": 5
        }
      ]
    },
    {
      "cell_type": "code",
      "source": [
        "a.dtype.name"
      ],
      "metadata": {
        "colab": {
          "base_uri": "https://localhost:8080/",
          "height": 35
        },
        "id": "SXioL7iTFeOc",
        "outputId": "a1b8013e-bedd-4e68-83e0-8e93abf23719"
      },
      "execution_count": 8,
      "outputs": [
        {
          "output_type": "execute_result",
          "data": {
            "text/plain": [
              "'int64'"
            ],
            "application/vnd.google.colaboratory.intrinsic+json": {
              "type": "string"
            }
          },
          "metadata": {},
          "execution_count": 8
        }
      ]
    },
    {
      "cell_type": "code",
      "source": [
        "a.itemsize"
      ],
      "metadata": {
        "colab": {
          "base_uri": "https://localhost:8080/"
        },
        "id": "oqsHraT_FYLC",
        "outputId": "20d14223-b94e-41f5-830c-8e9b650fbef8"
      },
      "execution_count": 6,
      "outputs": [
        {
          "output_type": "execute_result",
          "data": {
            "text/plain": [
              "8"
            ]
          },
          "metadata": {},
          "execution_count": 6
        }
      ]
    },
    {
      "cell_type": "code",
      "source": [
        "a.data"
      ],
      "metadata": {
        "colab": {
          "base_uri": "https://localhost:8080/"
        },
        "id": "RY6lxWHQFbA0",
        "outputId": "9f20ac07-1dd3-4ef4-c2c9-52ae1c3201be"
      },
      "execution_count": 7,
      "outputs": [
        {
          "output_type": "execute_result",
          "data": {
            "text/plain": [
              "<memory at 0x7e9a33559e50>"
            ]
          },
          "metadata": {},
          "execution_count": 7
        }
      ]
    },
    {
      "cell_type": "code",
      "source": [
        "type(a)"
      ],
      "metadata": {
        "colab": {
          "base_uri": "https://localhost:8080/"
        },
        "id": "r93u-25XFjW_",
        "outputId": "d759358f-e430-4ccc-9081-a6f63c385a10"
      },
      "execution_count": 9,
      "outputs": [
        {
          "output_type": "execute_result",
          "data": {
            "text/plain": [
              "numpy.ndarray"
            ]
          },
          "metadata": {},
          "execution_count": 9
        }
      ]
    },
    {
      "cell_type": "code",
      "source": [
        "b = np.array([6, 7, 8])\n",
        "type(b)"
      ],
      "metadata": {
        "colab": {
          "base_uri": "https://localhost:8080/"
        },
        "id": "R4luBDVqFkuM",
        "outputId": "77240553-168b-4050-fd41-d8d99e24c481"
      },
      "execution_count": 10,
      "outputs": [
        {
          "output_type": "execute_result",
          "data": {
            "text/plain": [
              "numpy.ndarray"
            ]
          },
          "metadata": {},
          "execution_count": 10
        }
      ]
    },
    {
      "cell_type": "code",
      "source": [
        "b.dtype.name"
      ],
      "metadata": {
        "colab": {
          "base_uri": "https://localhost:8080/",
          "height": 35
        },
        "id": "CnVCXb-YFsZ-",
        "outputId": "96e12152-87c5-43cd-dd1b-84d62ccf72da"
      },
      "execution_count": 11,
      "outputs": [
        {
          "output_type": "execute_result",
          "data": {
            "text/plain": [
              "'int64'"
            ],
            "application/vnd.google.colaboratory.intrinsic+json": {
              "type": "string"
            }
          },
          "metadata": {},
          "execution_count": 11
        }
      ]
    },
    {
      "cell_type": "markdown",
      "source": [
        "### Array creation"
      ],
      "metadata": {
        "id": "eqYQdub-w5UP"
      }
    },
    {
      "cell_type": "markdown",
      "source": [
        "There are several ways to create arrays.\n",
        "\n",
        "For example, you can create an array from a regular Pyhton list or tuple using the `array` function. The type of the resulting array is deduced from the type of the elements in the sequences."
      ],
      "metadata": {
        "id": "TnKclWw8GQEF"
      }
    },
    {
      "cell_type": "code",
      "source": [
        "import numpy as np\n",
        "\n",
        "a = np.array([2, 3, 4])\n",
        "b = np.array([1.2, 3.5, 5.1])"
      ],
      "metadata": {
        "id": "KaB6VzgFFake"
      },
      "execution_count": 12,
      "outputs": []
    },
    {
      "cell_type": "code",
      "source": [
        "a.dtype"
      ],
      "metadata": {
        "colab": {
          "base_uri": "https://localhost:8080/"
        },
        "id": "YE9dNQ8qFSnY",
        "outputId": "9e1e5bdc-b723-4e40-a7a1-34d1a4820485"
      },
      "execution_count": 13,
      "outputs": [
        {
          "output_type": "execute_result",
          "data": {
            "text/plain": [
              "dtype('int64')"
            ]
          },
          "metadata": {},
          "execution_count": 13
        }
      ]
    },
    {
      "cell_type": "code",
      "source": [
        "b.dtype"
      ],
      "metadata": {
        "colab": {
          "base_uri": "https://localhost:8080/"
        },
        "id": "GBjwj8TWGsuw",
        "outputId": "856f02fc-7e5f-4dd3-8823-d0d39becd20a"
      },
      "execution_count": 14,
      "outputs": [
        {
          "output_type": "execute_result",
          "data": {
            "text/plain": [
              "dtype('float64')"
            ]
          },
          "metadata": {},
          "execution_count": 14
        }
      ]
    },
    {
      "cell_type": "markdown",
      "source": [
        "A frequent error consists in calling `array` with multiple arguments, rather than providing a single sequence as an argument."
      ],
      "metadata": {
        "id": "K72uEpoYG24S"
      }
    },
    {
      "cell_type": "code",
      "source": [
        "a = np.array(1, 2, 3, 4) # WRONG"
      ],
      "metadata": {
        "colab": {
          "base_uri": "https://localhost:8080/",
          "height": 141
        },
        "id": "Dl5h-aRUG2ln",
        "outputId": "f3f0469e-cf8c-4eae-858f-4cc1f8c93fb4"
      },
      "execution_count": 15,
      "outputs": [
        {
          "output_type": "error",
          "ename": "TypeError",
          "evalue": "array() takes from 1 to 2 positional arguments but 4 were given",
          "traceback": [
            "\u001b[0;31m---------------------------------------------------------------------------\u001b[0m",
            "\u001b[0;31mTypeError\u001b[0m                                 Traceback (most recent call last)",
            "\u001b[0;32m<ipython-input-15-1fbafbbc546f>\u001b[0m in \u001b[0;36m<cell line: 0>\u001b[0;34m()\u001b[0m\n\u001b[0;32m----> 1\u001b[0;31m \u001b[0ma\u001b[0m \u001b[0;34m=\u001b[0m \u001b[0mnp\u001b[0m\u001b[0;34m.\u001b[0m\u001b[0marray\u001b[0m\u001b[0;34m(\u001b[0m\u001b[0;36m1\u001b[0m\u001b[0;34m,\u001b[0m \u001b[0;36m2\u001b[0m\u001b[0;34m,\u001b[0m \u001b[0;36m3\u001b[0m\u001b[0;34m,\u001b[0m \u001b[0;36m4\u001b[0m\u001b[0;34m)\u001b[0m \u001b[0;31m# WRONG\u001b[0m\u001b[0;34m\u001b[0m\u001b[0;34m\u001b[0m\u001b[0m\n\u001b[0m",
            "\u001b[0;31mTypeError\u001b[0m: array() takes from 1 to 2 positional arguments but 4 were given"
          ]
        }
      ]
    },
    {
      "cell_type": "code",
      "source": [
        "a = np.array([1, 2, 3, 4]) # RIGHT"
      ],
      "metadata": {
        "id": "Z4bHXEDoHKST"
      },
      "execution_count": 16,
      "outputs": []
    },
    {
      "cell_type": "markdown",
      "source": [
        "`array` transforms sequences of sequences into two-dimensional arrays, sequences of sequences of sequences into three-dimensional arrays, and so on."
      ],
      "metadata": {
        "id": "A976HeVlHXJt"
      }
    },
    {
      "cell_type": "code",
      "source": [
        "b = np.array([(1.5, 2, 3), (4, 5, 6)])\n",
        "b"
      ],
      "metadata": {
        "colab": {
          "base_uri": "https://localhost:8080/"
        },
        "id": "sDpV0LIGHm-M",
        "outputId": "53ea7120-e56c-4504-a756-a9a9fcb610e2"
      },
      "execution_count": 17,
      "outputs": [
        {
          "output_type": "execute_result",
          "data": {
            "text/plain": [
              "array([[1.5, 2. , 3. ],\n",
              "       [4. , 5. , 6. ]])"
            ]
          },
          "metadata": {},
          "execution_count": 17
        }
      ]
    },
    {
      "cell_type": "code",
      "source": [
        "b.dtype.name"
      ],
      "metadata": {
        "colab": {
          "base_uri": "https://localhost:8080/",
          "height": 35
        },
        "id": "I3l9TGAnHxUi",
        "outputId": "07a7c635-5851-4dfb-ad58-9de56db268e5"
      },
      "execution_count": 18,
      "outputs": [
        {
          "output_type": "execute_result",
          "data": {
            "text/plain": [
              "'float64'"
            ],
            "application/vnd.google.colaboratory.intrinsic+json": {
              "type": "string"
            }
          },
          "metadata": {},
          "execution_count": 18
        }
      ]
    },
    {
      "cell_type": "markdown",
      "source": [
        "The type of the array can also be explicitly specified at creation time:"
      ],
      "metadata": {
        "id": "aC3W8uUcHzKI"
      }
    },
    {
      "cell_type": "code",
      "source": [
        "c = np.array([[1, 2], [3, 4]], dtype=complex)\n",
        "c"
      ],
      "metadata": {
        "colab": {
          "base_uri": "https://localhost:8080/"
        },
        "id": "R6AAvOhfH5Qy",
        "outputId": "aa363cce-2850-4220-ede9-6aa02fc3fa93"
      },
      "execution_count": 19,
      "outputs": [
        {
          "output_type": "execute_result",
          "data": {
            "text/plain": [
              "array([[1.+0.j, 2.+0.j],\n",
              "       [3.+0.j, 4.+0.j]])"
            ]
          },
          "metadata": {},
          "execution_count": 19
        }
      ]
    },
    {
      "cell_type": "markdown",
      "source": [
        "Often, the elements of an array are originally unknown, but its size is known. Hence, NumPy offers several functions to create arrays with initial placeholder content. These minimize the necessity of growing arrays, an expnsive operation.\n",
        "\n",
        "The function `zeros` creates an array full of zeros, the function `ones` creates an array full of ones, and the function `empty` creates an array whose initial content is random and depends on the state of the memory. By default, the dtype of the created array is `float64`, but it can be specified via the key word argument `dtype`."
      ],
      "metadata": {
        "id": "rlNKIhMMLgci"
      }
    },
    {
      "cell_type": "code",
      "source": [
        "np.zeros((3, 4))"
      ],
      "metadata": {
        "colab": {
          "base_uri": "https://localhost:8080/"
        },
        "id": "EAwBHp7dREIP",
        "outputId": "a5472461-8826-49e1-c181-351dbcdd7098"
      },
      "execution_count": 20,
      "outputs": [
        {
          "output_type": "execute_result",
          "data": {
            "text/plain": [
              "array([[0., 0., 0., 0.],\n",
              "       [0., 0., 0., 0.],\n",
              "       [0., 0., 0., 0.]])"
            ]
          },
          "metadata": {},
          "execution_count": 20
        }
      ]
    },
    {
      "cell_type": "code",
      "source": [
        "np.ones((2, 3, 4), dtype=np.int16)"
      ],
      "metadata": {
        "colab": {
          "base_uri": "https://localhost:8080/"
        },
        "id": "lvqvIhHYRJ0B",
        "outputId": "6a137da0-9597-4d25-8f2e-08f09004aafd"
      },
      "execution_count": 21,
      "outputs": [
        {
          "output_type": "execute_result",
          "data": {
            "text/plain": [
              "array([[[1, 1, 1, 1],\n",
              "        [1, 1, 1, 1],\n",
              "        [1, 1, 1, 1]],\n",
              "\n",
              "       [[1, 1, 1, 1],\n",
              "        [1, 1, 1, 1],\n",
              "        [1, 1, 1, 1]]], dtype=int16)"
            ]
          },
          "metadata": {},
          "execution_count": 21
        }
      ]
    },
    {
      "cell_type": "code",
      "source": [
        "np.empty((2, 3))"
      ],
      "metadata": {
        "colab": {
          "base_uri": "https://localhost:8080/"
        },
        "id": "pLgc7-lDRVQb",
        "outputId": "22f633b5-f945-459a-8e0b-6f4944270db2"
      },
      "execution_count": 22,
      "outputs": [
        {
          "output_type": "execute_result",
          "data": {
            "text/plain": [
              "array([[1.5, 2. , 3. ],\n",
              "       [4. , 5. , 6. ]])"
            ]
          },
          "metadata": {},
          "execution_count": 22
        }
      ]
    },
    {
      "cell_type": "markdown",
      "source": [
        "To create sequences of numbers, NumPy provides the `arange` function whichis analogous to the Python built-in `range`, but returns an array."
      ],
      "metadata": {
        "id": "nq__QYzARaad"
      }
    },
    {
      "cell_type": "code",
      "source": [
        "np.arange(10, 30, 5)"
      ],
      "metadata": {
        "colab": {
          "base_uri": "https://localhost:8080/"
        },
        "id": "WI5MXQtSRppy",
        "outputId": "7ba16e07-0bb0-4f76-c384-14d3ff4aa8d5"
      },
      "execution_count": 23,
      "outputs": [
        {
          "output_type": "execute_result",
          "data": {
            "text/plain": [
              "array([10, 15, 20, 25])"
            ]
          },
          "metadata": {},
          "execution_count": 23
        }
      ]
    },
    {
      "cell_type": "code",
      "source": [
        "np.arange(0, 2, 0.3) # it accepts float arguments"
      ],
      "metadata": {
        "colab": {
          "base_uri": "https://localhost:8080/"
        },
        "id": "JF6is7qLRo2X",
        "outputId": "278da7e2-d1ad-417e-ca7b-1c7d07f87457"
      },
      "execution_count": 24,
      "outputs": [
        {
          "output_type": "execute_result",
          "data": {
            "text/plain": [
              "array([0. , 0.3, 0.6, 0.9, 1.2, 1.5, 1.8])"
            ]
          },
          "metadata": {},
          "execution_count": 24
        }
      ]
    },
    {
      "cell_type": "markdown",
      "source": [
        "When `arange` is used with floating point arguments, it is generally not possible to predict the number of elements obtained, due to the finite floating point precision. For this reason, it is usually better to use the function `linspace` that receives as an argument the number of elements that we want, instead of the step:"
      ],
      "metadata": {
        "id": "1XdyXLPBR7Em"
      }
    },
    {
      "cell_type": "code",
      "source": [
        "from numpy import pi\n",
        "\n",
        "np.linspace(0, 2, 9) # 9 numbers from 0 to 2"
      ],
      "metadata": {
        "colab": {
          "base_uri": "https://localhost:8080/"
        },
        "id": "H14W3IHFSWWn",
        "outputId": "30ca30fd-e0da-4b7a-db26-519e1c275d3a"
      },
      "execution_count": 25,
      "outputs": [
        {
          "output_type": "execute_result",
          "data": {
            "text/plain": [
              "array([0.  , 0.25, 0.5 , 0.75, 1.  , 1.25, 1.5 , 1.75, 2.  ])"
            ]
          },
          "metadata": {},
          "execution_count": 25
        }
      ]
    },
    {
      "cell_type": "code",
      "source": [
        "x = np.linspace(0, 2 * pi, 100) # useful to evaluate fucntion at lots of points\n",
        "x"
      ],
      "metadata": {
        "colab": {
          "base_uri": "https://localhost:8080/"
        },
        "id": "pPHS5oOCSjV_",
        "outputId": "0cb5f277-cfc3-4fb9-99e6-514fb7842a49"
      },
      "execution_count": 27,
      "outputs": [
        {
          "output_type": "execute_result",
          "data": {
            "text/plain": [
              "array([0.        , 0.06346652, 0.12693304, 0.19039955, 0.25386607,\n",
              "       0.31733259, 0.38079911, 0.44426563, 0.50773215, 0.57119866,\n",
              "       0.63466518, 0.6981317 , 0.76159822, 0.82506474, 0.88853126,\n",
              "       0.95199777, 1.01546429, 1.07893081, 1.14239733, 1.20586385,\n",
              "       1.26933037, 1.33279688, 1.3962634 , 1.45972992, 1.52319644,\n",
              "       1.58666296, 1.65012947, 1.71359599, 1.77706251, 1.84052903,\n",
              "       1.90399555, 1.96746207, 2.03092858, 2.0943951 , 2.15786162,\n",
              "       2.22132814, 2.28479466, 2.34826118, 2.41172769, 2.47519421,\n",
              "       2.53866073, 2.60212725, 2.66559377, 2.72906028, 2.7925268 ,\n",
              "       2.85599332, 2.91945984, 2.98292636, 3.04639288, 3.10985939,\n",
              "       3.17332591, 3.23679243, 3.30025895, 3.36372547, 3.42719199,\n",
              "       3.4906585 , 3.55412502, 3.61759154, 3.68105806, 3.74452458,\n",
              "       3.8079911 , 3.87145761, 3.93492413, 3.99839065, 4.06185717,\n",
              "       4.12532369, 4.1887902 , 4.25225672, 4.31572324, 4.37918976,\n",
              "       4.44265628, 4.5061228 , 4.56958931, 4.63305583, 4.69652235,\n",
              "       4.75998887, 4.82345539, 4.88692191, 4.95038842, 5.01385494,\n",
              "       5.07732146, 5.14078798, 5.2042545 , 5.26772102, 5.33118753,\n",
              "       5.39465405, 5.45812057, 5.52158709, 5.58505361, 5.64852012,\n",
              "       5.71198664, 5.77545316, 5.83891968, 5.9023862 , 5.96585272,\n",
              "       6.02931923, 6.09278575, 6.15625227, 6.21971879, 6.28318531])"
            ]
          },
          "metadata": {},
          "execution_count": 27
        }
      ]
    },
    {
      "cell_type": "code",
      "source": [
        "f = np.sin(x)\n",
        "f"
      ],
      "metadata": {
        "colab": {
          "base_uri": "https://localhost:8080/"
        },
        "id": "amRYWe17S2jY",
        "outputId": "ea336a0c-ffea-4ea2-d3c1-40f439adac35"
      },
      "execution_count": 29,
      "outputs": [
        {
          "output_type": "execute_result",
          "data": {
            "text/plain": [
              "array([ 0.00000000e+00,  6.34239197e-02,  1.26592454e-01,  1.89251244e-01,\n",
              "        2.51147987e-01,  3.12033446e-01,  3.71662456e-01,  4.29794912e-01,\n",
              "        4.86196736e-01,  5.40640817e-01,  5.92907929e-01,  6.42787610e-01,\n",
              "        6.90079011e-01,  7.34591709e-01,  7.76146464e-01,  8.14575952e-01,\n",
              "        8.49725430e-01,  8.81453363e-01,  9.09631995e-01,  9.34147860e-01,\n",
              "        9.54902241e-01,  9.71811568e-01,  9.84807753e-01,  9.93838464e-01,\n",
              "        9.98867339e-01,  9.99874128e-01,  9.96854776e-01,  9.89821442e-01,\n",
              "        9.78802446e-01,  9.63842159e-01,  9.45000819e-01,  9.22354294e-01,\n",
              "        8.95993774e-01,  8.66025404e-01,  8.32569855e-01,  7.95761841e-01,\n",
              "        7.55749574e-01,  7.12694171e-01,  6.66769001e-01,  6.18158986e-01,\n",
              "        5.67059864e-01,  5.13677392e-01,  4.58226522e-01,  4.00930535e-01,\n",
              "        3.42020143e-01,  2.81732557e-01,  2.20310533e-01,  1.58001396e-01,\n",
              "        9.50560433e-02,  3.17279335e-02, -3.17279335e-02, -9.50560433e-02,\n",
              "       -1.58001396e-01, -2.20310533e-01, -2.81732557e-01, -3.42020143e-01,\n",
              "       -4.00930535e-01, -4.58226522e-01, -5.13677392e-01, -5.67059864e-01,\n",
              "       -6.18158986e-01, -6.66769001e-01, -7.12694171e-01, -7.55749574e-01,\n",
              "       -7.95761841e-01, -8.32569855e-01, -8.66025404e-01, -8.95993774e-01,\n",
              "       -9.22354294e-01, -9.45000819e-01, -9.63842159e-01, -9.78802446e-01,\n",
              "       -9.89821442e-01, -9.96854776e-01, -9.99874128e-01, -9.98867339e-01,\n",
              "       -9.93838464e-01, -9.84807753e-01, -9.71811568e-01, -9.54902241e-01,\n",
              "       -9.34147860e-01, -9.09631995e-01, -8.81453363e-01, -8.49725430e-01,\n",
              "       -8.14575952e-01, -7.76146464e-01, -7.34591709e-01, -6.90079011e-01,\n",
              "       -6.42787610e-01, -5.92907929e-01, -5.40640817e-01, -4.86196736e-01,\n",
              "       -4.29794912e-01, -3.71662456e-01, -3.12033446e-01, -2.51147987e-01,\n",
              "       -1.89251244e-01, -1.26592454e-01, -6.34239197e-02, -2.44929360e-16])"
            ]
          },
          "metadata": {},
          "execution_count": 29
        }
      ]
    },
    {
      "cell_type": "markdown",
      "source": [
        "### Printing arrays"
      ],
      "metadata": {
        "id": "G-PeO0n4xDv8"
      }
    },
    {
      "cell_type": "code",
      "source": [],
      "metadata": {
        "id": "oK8oujsxHmbE"
      },
      "execution_count": null,
      "outputs": []
    },
    {
      "cell_type": "code",
      "source": [],
      "metadata": {
        "id": "zHELUP5DGr6f"
      },
      "execution_count": null,
      "outputs": []
    },
    {
      "cell_type": "markdown",
      "source": [
        "### Basic operations"
      ],
      "metadata": {
        "id": "hda-hT67xIWr"
      }
    },
    {
      "cell_type": "markdown",
      "source": [
        "### Universal functions"
      ],
      "metadata": {
        "id": "1yYl3GXnxMVt"
      }
    },
    {
      "cell_type": "markdown",
      "source": [
        "### Indexing, slicing and iterating"
      ],
      "metadata": {
        "id": "lr6NpQrhxPFw"
      }
    },
    {
      "cell_type": "markdown",
      "source": [
        "# Shape manipulation"
      ],
      "metadata": {
        "id": "JYMXkuZ9xTbA"
      }
    },
    {
      "cell_type": "markdown",
      "source": [
        "### Changing the shape of an array"
      ],
      "metadata": {
        "id": "LlYdayHexV8M"
      }
    },
    {
      "cell_type": "markdown",
      "source": [
        "### Stacking together different arrays"
      ],
      "metadata": {
        "id": "qF1EeYldxaCs"
      }
    },
    {
      "cell_type": "markdown",
      "source": [
        "### Splitting one aray into several smaller ones"
      ],
      "metadata": {
        "id": "t7D8DZoqxesk"
      }
    },
    {
      "cell_type": "markdown",
      "source": [
        "# Copies and views"
      ],
      "metadata": {
        "id": "jPg0Fvqaxm50"
      }
    },
    {
      "cell_type": "markdown",
      "source": [
        "### No copy at all"
      ],
      "metadata": {
        "id": "ZFCwC4ZMxpoH"
      }
    },
    {
      "cell_type": "markdown",
      "source": [
        "### View or shallow copy"
      ],
      "metadata": {
        "id": "bFKRCqrKxsoZ"
      }
    },
    {
      "cell_type": "markdown",
      "source": [
        "### Deep copy"
      ],
      "metadata": {
        "id": "n7U2AKpGxwOD"
      }
    },
    {
      "cell_type": "markdown",
      "source": [
        "### Functions and methods overview"
      ],
      "metadata": {
        "id": "5kFdpX2Yx1Oa"
      }
    },
    {
      "cell_type": "markdown",
      "source": [
        "# Less basic"
      ],
      "metadata": {
        "id": "5lH-J38Bx6xg"
      }
    },
    {
      "cell_type": "markdown",
      "source": [
        "### Broadcasting rules"
      ],
      "metadata": {
        "id": "auFj4UH6x9pE"
      }
    },
    {
      "cell_type": "markdown",
      "source": [
        "# Advanced indexing and index tricks"
      ],
      "metadata": {
        "id": "YPOlNLh7yBZ1"
      }
    },
    {
      "cell_type": "markdown",
      "source": [
        "### Indexing with arrays of indices"
      ],
      "metadata": {
        "id": "Ps24zZw3yEt1"
      }
    },
    {
      "cell_type": "markdown",
      "source": [
        "### Indexing with boolean arrays"
      ],
      "metadata": {
        "id": "WceAmH1PyVA4"
      }
    },
    {
      "cell_type": "markdown",
      "source": [
        "### The ix_() function"
      ],
      "metadata": {
        "id": "itl7bpSQyfRv"
      }
    },
    {
      "cell_type": "markdown",
      "source": [
        "### Indexing with strings"
      ],
      "metadata": {
        "id": "2xui3P5YyjqG"
      }
    },
    {
      "cell_type": "markdown",
      "source": [
        "# Tricks and tips"
      ],
      "metadata": {
        "id": "KZF32dioymqg"
      }
    },
    {
      "cell_type": "markdown",
      "source": [
        "### Automatic reshaping"
      ],
      "metadata": {
        "id": "H77JHeNfyqqZ"
      }
    },
    {
      "cell_type": "markdown",
      "source": [
        "### Vector stacking"
      ],
      "metadata": {
        "id": "t1XhUAm4ytrN"
      }
    },
    {
      "cell_type": "markdown",
      "source": [
        "### Histograms"
      ],
      "metadata": {
        "id": "2s4ecD_kywr-"
      }
    }
  ]
}