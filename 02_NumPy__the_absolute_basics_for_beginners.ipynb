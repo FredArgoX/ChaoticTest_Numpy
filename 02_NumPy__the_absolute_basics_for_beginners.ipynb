{
  "nbformat": 4,
  "nbformat_minor": 0,
  "metadata": {
    "colab": {
      "provenance": [],
      "authorship_tag": "ABX9TyN/r75IW4EbmGnhhemHWwH3",
      "include_colab_link": true
    },
    "kernelspec": {
      "name": "python3",
      "display_name": "Python 3"
    },
    "language_info": {
      "name": "python"
    }
  },
  "cells": [
    {
      "cell_type": "markdown",
      "metadata": {
        "id": "view-in-github",
        "colab_type": "text"
      },
      "source": [
        "<a href=\"https://colab.research.google.com/github/FredArgoX/ChaoticTest_Numpy/blob/main/02_NumPy__the_absolute_basics_for_beginners.ipynb\" target=\"_parent\"><img src=\"https://colab.research.google.com/assets/colab-badge.svg\" alt=\"Open In Colab\"/></a>"
      ]
    },
    {
      "cell_type": "markdown",
      "source": [
        "Source: [NumPy: the absolute basics for beginners](https://numpy.org/doc/stable/user/absolute_beginners.html)"
      ],
      "metadata": {
        "id": "7ZZ3pcCtzebU"
      }
    },
    {
      "cell_type": "markdown",
      "source": [
        "# NumPy: the absolute basics for beginners\n",
        "\n",
        "Welcome to the absolute beginner's guide to NumPy!\n",
        "\n",
        "NumPy (Numerical Python) is an open source Python library that's widely used in science and engineering. The NumPy library contains multidimensional array data structures, such as the homogeneous, N-dimensional `ndarray`, and a large library of functions that operate efficiently on these data structures.\n"
      ],
      "metadata": {
        "id": "EORAnbNHNPIv"
      }
    },
    {
      "cell_type": "markdown",
      "source": [
        "# How to import NumPy"
      ],
      "metadata": {
        "id": "ebuo39F50ALf"
      }
    },
    {
      "cell_type": "markdown",
      "source": [
        "After installing NumPy, it may be imported into Python code like:"
      ],
      "metadata": {
        "id": "kuyJJT3KOgDs"
      }
    },
    {
      "cell_type": "code",
      "source": [
        "import numpy as np"
      ],
      "metadata": {
        "id": "JZP5RVy10CBO"
      },
      "execution_count": 1,
      "outputs": []
    },
    {
      "cell_type": "markdown",
      "source": [
        "The widespread convention allows access to NumPy features with a short, recognizable prefix (`np.`) while distinguishing NumPy features from others that have the same name."
      ],
      "metadata": {
        "id": "IGWPQrg_OovV"
      }
    },
    {
      "cell_type": "markdown",
      "source": [
        "# Reading the example code"
      ],
      "metadata": {
        "id": "El3GLcB-0H-4"
      }
    },
    {
      "cell_type": "markdown",
      "source": [
        "Throughout the NumPy documentation, you will find blocks that look like:"
      ],
      "metadata": {
        "id": "GpD_lmliT3fX"
      }
    },
    {
      "cell_type": "code",
      "source": [
        "a = np.array([[1, 2, 3],\n",
        "              [4, 5, 6]])\n",
        "\n",
        "a.shape"
      ],
      "metadata": {
        "id": "9irSnxqS0KHh",
        "colab": {
          "base_uri": "https://localhost:8080/"
        },
        "outputId": "103de6a2-fd3e-4462-c5ce-ddacab037c35"
      },
      "execution_count": 2,
      "outputs": [
        {
          "output_type": "execute_result",
          "data": {
            "text/plain": [
              "(2, 3)"
            ]
          },
          "metadata": {},
          "execution_count": 2
        }
      ]
    },
    {
      "cell_type": "markdown",
      "source": [
        "Text preceded by `>>>` or `...` is input, the code that you would enter in a script or at a Python prompt. Everything else is output, the results of running your code. Note that `>>>` and `...` are not part of the code and may cause an error if entered at a Python prompt."
      ],
      "metadata": {
        "id": "3aPJD91cUl8j"
      }
    },
    {
      "cell_type": "markdown",
      "source": [
        "# Why use NumPy?"
      ],
      "metadata": {
        "id": "A84C82ic0Kib"
      }
    },
    {
      "cell_type": "markdown",
      "source": [
        "Python lists are excellent, general-purpose containers. They can be \"heterogeneous\", meaning that they can contain elements of a variety of types, and they are quite fast when used to perform individual operations on a handful of elements.\n",
        "\n",
        "Depending on the characteristics of the data and the types of operations that need to be performed, other contaners may be more appropriate; by expoiting these characteristics, we can improve speed, reduce memory consumption, and offer a high-level syntax for performing a variety of common processing tasks. NumPy shines when there are large quantities of \"homogeneous\" (same-type) data to be processed on the CPU."
      ],
      "metadata": {
        "id": "W-dk3pi4VS8u"
      }
    },
    {
      "cell_type": "markdown",
      "source": [
        "# What is an \"array\"?"
      ],
      "metadata": {
        "id": "W9Uq2KnV0Pmq"
      }
    },
    {
      "cell_type": "markdown",
      "source": [
        "In computer programming, an array is a structure for storing and retrieving data. We often talk about an array as if it were a grid in space, with each cell storing one element of the data. For instance, if each element of the data were a number, we might visualize a \"one-dimensional\" array like a list:"
      ],
      "metadata": {
        "id": "8bPmJ5derrNe"
      }
    },
    {
      "cell_type": "markdown",
      "source": [
        "\\\n",
        "\\begin{array}{|c|c|c|c|}\n",
        "\\hline\n",
        "1 & 5 & 2 & 0 \\\\\n",
        "\\hline\n",
        "\\end{array}\n"
      ],
      "metadata": {
        "id": "Le6u3k2ksMSv"
      }
    },
    {
      "cell_type": "markdown",
      "source": [
        "A two-dimensional array would be like a table:"
      ],
      "metadata": {
        "id": "jEBKt0jAs63h"
      }
    },
    {
      "cell_type": "markdown",
      "source": [
        "\\\n",
        "\\begin{array}{|c|c|c|c|}\n",
        "\\hline\n",
        "1 & 5 & 2 & 0 \\\\\n",
        "\\hline\n",
        "8 & 3 & 6 & 1 \\\\\n",
        "\\hline\n",
        "1 & 7 & 2 & 9 \\\\\n",
        "\\hline\n",
        "\\end{array}\n"
      ],
      "metadata": {
        "id": "rImDebMntA55"
      }
    },
    {
      "cell_type": "markdown",
      "source": [
        "A three-dimensional array would be like a set of tables, perhaps stacked as though they were printed on separate pages. In NumPy, this idea is generalized to an arbitrary number of dimensions, and so the fundamental array class is called `ndarray`: it represents an \"N-dimensional array\".\n",
        "\n",
        "Most NumPy arrays have some restrictions. For instance:\n",
        "\n",
        "- All elements of the array must be of the same type of data.\n",
        "- Once created, the total size of the array can't change.\n",
        "- The shape must be \"rectangular\", not \"jagged\"; e.g., each row of a two-dimensional array must have the same number of columns.\n",
        "\n",
        "When these conditions are met, NumPy exploits these characteristics to make the array faster, more memory efficient, and more convenient to use than less restrictive data structures.\n",
        "\n",
        "For the remainder of this document, we will use the word \"array\" to refer to an instance of `ndarray`.\n"
      ],
      "metadata": {
        "id": "ymv1KwZ9tYiT"
      }
    },
    {
      "cell_type": "markdown",
      "source": [
        "# Array fundamentals"
      ],
      "metadata": {
        "id": "Upjy2aUV0Taz"
      }
    },
    {
      "cell_type": "code",
      "source": [],
      "metadata": {
        "id": "CApTQwJv0Upx"
      },
      "execution_count": null,
      "outputs": []
    },
    {
      "cell_type": "markdown",
      "source": [
        "# Array attributes"
      ],
      "metadata": {
        "id": "KGEcMXe-0XPl"
      }
    },
    {
      "cell_type": "code",
      "source": [],
      "metadata": {
        "id": "az2HKK0t0aQ4"
      },
      "execution_count": null,
      "outputs": []
    },
    {
      "cell_type": "markdown",
      "source": [
        "# How to create a basic array?"
      ],
      "metadata": {
        "id": "oMIgG2ev0bsk"
      }
    },
    {
      "cell_type": "code",
      "source": [],
      "metadata": {
        "id": "ucDEST8l0eRL"
      },
      "execution_count": null,
      "outputs": []
    },
    {
      "cell_type": "markdown",
      "source": [
        "# Adding, removing, and sorting elements"
      ],
      "metadata": {
        "id": "f1Y7BV9b0gAU"
      }
    },
    {
      "cell_type": "code",
      "source": [],
      "metadata": {
        "id": "rIVRD2gi0ivN"
      },
      "execution_count": null,
      "outputs": []
    },
    {
      "cell_type": "markdown",
      "source": [
        "# How do you know the shape and size of an array?"
      ],
      "metadata": {
        "id": "Zhj-IQLv0kEO"
      }
    },
    {
      "cell_type": "code",
      "source": [],
      "metadata": {
        "id": "Qi0NnBMA0mmk"
      },
      "execution_count": null,
      "outputs": []
    },
    {
      "cell_type": "markdown",
      "source": [
        "# Can you reshape an array?"
      ],
      "metadata": {
        "id": "Q1XiwWQd0pw8"
      }
    },
    {
      "cell_type": "code",
      "source": [],
      "metadata": {
        "id": "CWg-bsFA0r2P"
      },
      "execution_count": null,
      "outputs": []
    },
    {
      "cell_type": "markdown",
      "source": [
        "# How to convert a 1D array into a 2D array (how to add a new axis to an array)"
      ],
      "metadata": {
        "id": "J4WTXpyu0tkE"
      }
    },
    {
      "cell_type": "code",
      "source": [],
      "metadata": {
        "id": "pYmj_heh0z_o"
      },
      "execution_count": null,
      "outputs": []
    },
    {
      "cell_type": "markdown",
      "source": [
        "# Indexing and slicing"
      ],
      "metadata": {
        "id": "PSrheJxs01-m"
      }
    },
    {
      "cell_type": "code",
      "source": [],
      "metadata": {
        "id": "PWehnpDl03Vd"
      },
      "execution_count": null,
      "outputs": []
    },
    {
      "cell_type": "markdown",
      "source": [
        "# How to create an array from existing data?"
      ],
      "metadata": {
        "id": "AY9f5Z431EoT"
      }
    },
    {
      "cell_type": "code",
      "source": [],
      "metadata": {
        "id": "EFMaZSB31Mil"
      },
      "execution_count": null,
      "outputs": []
    },
    {
      "cell_type": "markdown",
      "source": [
        "# Basic array operations"
      ],
      "metadata": {
        "id": "zeeuiS981Mou"
      }
    },
    {
      "cell_type": "code",
      "source": [],
      "metadata": {
        "id": "aMGfYRwc1PKP"
      },
      "execution_count": null,
      "outputs": []
    },
    {
      "cell_type": "markdown",
      "source": [
        "# Broadcasting"
      ],
      "metadata": {
        "id": "NkK_gPzi1Qj4"
      }
    },
    {
      "cell_type": "code",
      "source": [],
      "metadata": {
        "id": "7Diy3QHQ1RuF"
      },
      "execution_count": null,
      "outputs": []
    },
    {
      "cell_type": "markdown",
      "source": [
        "# More useful array operations"
      ],
      "metadata": {
        "id": "egodi56f1Szx"
      }
    },
    {
      "cell_type": "code",
      "source": [],
      "metadata": {
        "id": "_FBGOYg01Ug2"
      },
      "execution_count": null,
      "outputs": []
    },
    {
      "cell_type": "markdown",
      "source": [
        "# Creating matrices"
      ],
      "metadata": {
        "id": "9KMywgrL1WUa"
      }
    },
    {
      "cell_type": "code",
      "source": [],
      "metadata": {
        "id": "fdbtST9C1XmH"
      },
      "execution_count": null,
      "outputs": []
    },
    {
      "cell_type": "markdown",
      "source": [
        "# Generating random numbers"
      ],
      "metadata": {
        "id": "o5e5huTd1fha"
      }
    },
    {
      "cell_type": "code",
      "source": [],
      "metadata": {
        "id": "_kCGrOsW1hAV"
      },
      "execution_count": null,
      "outputs": []
    },
    {
      "cell_type": "markdown",
      "source": [
        "# How to get unique items and counts"
      ],
      "metadata": {
        "id": "kG6iPR_J1iY2"
      }
    },
    {
      "cell_type": "code",
      "source": [],
      "metadata": {
        "id": "j50KpsEs1kvg"
      },
      "execution_count": null,
      "outputs": []
    },
    {
      "cell_type": "markdown",
      "source": [
        "# Transposing and reshaping a matrix"
      ],
      "metadata": {
        "id": "8fzRrMhz1nzs"
      }
    },
    {
      "cell_type": "code",
      "source": [],
      "metadata": {
        "id": "dLLwgjdI1qNb"
      },
      "execution_count": null,
      "outputs": []
    },
    {
      "cell_type": "markdown",
      "source": [
        "# How to reverse an array"
      ],
      "metadata": {
        "id": "phDHvsD81tmL"
      }
    },
    {
      "cell_type": "code",
      "source": [],
      "metadata": {
        "id": "6WzRuaup1vHq"
      },
      "execution_count": null,
      "outputs": []
    },
    {
      "cell_type": "markdown",
      "source": [
        "# Reshaping and flattening multidimensional arrays"
      ],
      "metadata": {
        "id": "wS7zbopd1xNZ"
      }
    },
    {
      "cell_type": "code",
      "source": [],
      "metadata": {
        "id": "YH8VYJQ_12-4"
      },
      "execution_count": null,
      "outputs": []
    },
    {
      "cell_type": "markdown",
      "source": [
        "# How to access the docstring for more information"
      ],
      "metadata": {
        "id": "fo8jwv8o1418"
      }
    },
    {
      "cell_type": "code",
      "source": [],
      "metadata": {
        "id": "iwxQA6Dx18Dh"
      },
      "execution_count": null,
      "outputs": []
    },
    {
      "cell_type": "markdown",
      "source": [
        "# Working with mathematical formulas"
      ],
      "metadata": {
        "id": "BYlov9tL2Cma"
      }
    },
    {
      "cell_type": "code",
      "source": [],
      "metadata": {
        "id": "RMBPl6iC2E5H"
      },
      "execution_count": null,
      "outputs": []
    },
    {
      "cell_type": "markdown",
      "source": [
        "# How to save and load NumPy objects"
      ],
      "metadata": {
        "id": "wU-uTd4W2HFY"
      }
    },
    {
      "cell_type": "code",
      "source": [],
      "metadata": {
        "id": "PgUpPb372J7U"
      },
      "execution_count": null,
      "outputs": []
    },
    {
      "cell_type": "markdown",
      "source": [
        "# Importing and exporting a CSV"
      ],
      "metadata": {
        "id": "Olsgacg12MeQ"
      }
    },
    {
      "cell_type": "code",
      "source": [],
      "metadata": {
        "id": "7zoBrPzW2OOW"
      },
      "execution_count": null,
      "outputs": []
    },
    {
      "cell_type": "markdown",
      "source": [
        "# Plotting arrays with Matplotlib"
      ],
      "metadata": {
        "id": "9vz3A0R12Q1a"
      }
    },
    {
      "cell_type": "code",
      "source": [],
      "metadata": {
        "id": "mSpjos3w2TgJ"
      },
      "execution_count": null,
      "outputs": []
    },
    {
      "cell_type": "code",
      "source": [],
      "metadata": {
        "id": "u9vo0v4c3FLm"
      },
      "execution_count": null,
      "outputs": []
    }
  ]
}