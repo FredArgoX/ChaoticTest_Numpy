{
  "nbformat": 4,
  "nbformat_minor": 0,
  "metadata": {
    "colab": {
      "provenance": [],
      "authorship_tag": "ABX9TyOrXLryjqCN8Ad42tYU9X9T",
      "include_colab_link": true
    },
    "kernelspec": {
      "name": "python3",
      "display_name": "Python 3"
    },
    "language_info": {
      "name": "python"
    }
  },
  "cells": [
    {
      "cell_type": "markdown",
      "metadata": {
        "id": "view-in-github",
        "colab_type": "text"
      },
      "source": [
        "<a href=\"https://colab.research.google.com/github/FredArgoX/ChaoticTest_Numpy/blob/main/02_NumPy__the_absolute_basics_for_beginners.ipynb\" target=\"_parent\"><img src=\"https://colab.research.google.com/assets/colab-badge.svg\" alt=\"Open In Colab\"/></a>"
      ]
    },
    {
      "cell_type": "markdown",
      "source": [
        "Source: [NumPy: the absolute basics for beginners](https://numpy.org/doc/stable/user/absolute_beginners.html)"
      ],
      "metadata": {
        "id": "7ZZ3pcCtzebU"
      }
    },
    {
      "cell_type": "markdown",
      "source": [
        "# How to import NumPy"
      ],
      "metadata": {
        "id": "ebuo39F50ALf"
      }
    },
    {
      "cell_type": "code",
      "source": [],
      "metadata": {
        "id": "JZP5RVy10CBO"
      },
      "execution_count": null,
      "outputs": []
    },
    {
      "cell_type": "markdown",
      "source": [
        "# Reading the example code"
      ],
      "metadata": {
        "id": "El3GLcB-0H-4"
      }
    },
    {
      "cell_type": "code",
      "source": [],
      "metadata": {
        "id": "9irSnxqS0KHh"
      },
      "execution_count": null,
      "outputs": []
    },
    {
      "cell_type": "markdown",
      "source": [
        "# Why use NumPy?"
      ],
      "metadata": {
        "id": "A84C82ic0Kib"
      }
    },
    {
      "cell_type": "code",
      "source": [],
      "metadata": {
        "id": "vvfVzzUR0OMS"
      },
      "execution_count": null,
      "outputs": []
    },
    {
      "cell_type": "markdown",
      "source": [
        "# What is an \"array\"?"
      ],
      "metadata": {
        "id": "W9Uq2KnV0Pmq"
      }
    },
    {
      "cell_type": "code",
      "source": [],
      "metadata": {
        "id": "0xN6Zkmd0SBN"
      },
      "execution_count": null,
      "outputs": []
    },
    {
      "cell_type": "markdown",
      "source": [
        "# Array fundamentals"
      ],
      "metadata": {
        "id": "Upjy2aUV0Taz"
      }
    },
    {
      "cell_type": "code",
      "source": [],
      "metadata": {
        "id": "CApTQwJv0Upx"
      },
      "execution_count": null,
      "outputs": []
    },
    {
      "cell_type": "markdown",
      "source": [
        "# Array attributes"
      ],
      "metadata": {
        "id": "KGEcMXe-0XPl"
      }
    },
    {
      "cell_type": "code",
      "source": [],
      "metadata": {
        "id": "az2HKK0t0aQ4"
      },
      "execution_count": null,
      "outputs": []
    },
    {
      "cell_type": "markdown",
      "source": [
        "# How to create a basic array?"
      ],
      "metadata": {
        "id": "oMIgG2ev0bsk"
      }
    },
    {
      "cell_type": "code",
      "source": [],
      "metadata": {
        "id": "ucDEST8l0eRL"
      },
      "execution_count": null,
      "outputs": []
    },
    {
      "cell_type": "markdown",
      "source": [
        "# Adding, removing, and sorting elements"
      ],
      "metadata": {
        "id": "f1Y7BV9b0gAU"
      }
    },
    {
      "cell_type": "code",
      "source": [],
      "metadata": {
        "id": "rIVRD2gi0ivN"
      },
      "execution_count": null,
      "outputs": []
    },
    {
      "cell_type": "markdown",
      "source": [
        "# How do you know the shape and size of an array?"
      ],
      "metadata": {
        "id": "Zhj-IQLv0kEO"
      }
    },
    {
      "cell_type": "code",
      "source": [],
      "metadata": {
        "id": "Qi0NnBMA0mmk"
      },
      "execution_count": null,
      "outputs": []
    },
    {
      "cell_type": "markdown",
      "source": [
        "# Can you reshape an array?"
      ],
      "metadata": {
        "id": "Q1XiwWQd0pw8"
      }
    },
    {
      "cell_type": "code",
      "source": [],
      "metadata": {
        "id": "CWg-bsFA0r2P"
      },
      "execution_count": null,
      "outputs": []
    },
    {
      "cell_type": "markdown",
      "source": [
        "# How to convert a 1D array into a 2D array (how to add a new axis to an array)"
      ],
      "metadata": {
        "id": "J4WTXpyu0tkE"
      }
    },
    {
      "cell_type": "code",
      "source": [],
      "metadata": {
        "id": "pYmj_heh0z_o"
      },
      "execution_count": null,
      "outputs": []
    },
    {
      "cell_type": "markdown",
      "source": [
        "# Indexing and slicing"
      ],
      "metadata": {
        "id": "PSrheJxs01-m"
      }
    },
    {
      "cell_type": "code",
      "source": [],
      "metadata": {
        "id": "PWehnpDl03Vd"
      },
      "execution_count": null,
      "outputs": []
    },
    {
      "cell_type": "markdown",
      "source": [
        "# How to create an array from existing data?"
      ],
      "metadata": {
        "id": "AY9f5Z431EoT"
      }
    },
    {
      "cell_type": "code",
      "source": [],
      "metadata": {
        "id": "EFMaZSB31Mil"
      },
      "execution_count": null,
      "outputs": []
    },
    {
      "cell_type": "markdown",
      "source": [
        "# Basic array operations"
      ],
      "metadata": {
        "id": "zeeuiS981Mou"
      }
    },
    {
      "cell_type": "code",
      "source": [],
      "metadata": {
        "id": "aMGfYRwc1PKP"
      },
      "execution_count": null,
      "outputs": []
    },
    {
      "cell_type": "markdown",
      "source": [
        "# Broadcasting"
      ],
      "metadata": {
        "id": "NkK_gPzi1Qj4"
      }
    },
    {
      "cell_type": "code",
      "source": [],
      "metadata": {
        "id": "7Diy3QHQ1RuF"
      },
      "execution_count": null,
      "outputs": []
    },
    {
      "cell_type": "markdown",
      "source": [
        "# More useful array operations"
      ],
      "metadata": {
        "id": "egodi56f1Szx"
      }
    },
    {
      "cell_type": "code",
      "source": [],
      "metadata": {
        "id": "_FBGOYg01Ug2"
      },
      "execution_count": null,
      "outputs": []
    },
    {
      "cell_type": "markdown",
      "source": [
        "# Creating matrices"
      ],
      "metadata": {
        "id": "9KMywgrL1WUa"
      }
    },
    {
      "cell_type": "code",
      "source": [],
      "metadata": {
        "id": "fdbtST9C1XmH"
      },
      "execution_count": null,
      "outputs": []
    },
    {
      "cell_type": "markdown",
      "source": [
        "# Generating random numbers"
      ],
      "metadata": {
        "id": "o5e5huTd1fha"
      }
    },
    {
      "cell_type": "code",
      "source": [],
      "metadata": {
        "id": "_kCGrOsW1hAV"
      },
      "execution_count": null,
      "outputs": []
    },
    {
      "cell_type": "markdown",
      "source": [
        "# How to get unique items and counts"
      ],
      "metadata": {
        "id": "kG6iPR_J1iY2"
      }
    },
    {
      "cell_type": "code",
      "source": [],
      "metadata": {
        "id": "j50KpsEs1kvg"
      },
      "execution_count": null,
      "outputs": []
    },
    {
      "cell_type": "markdown",
      "source": [
        "# Transposing and reshaping a matrix"
      ],
      "metadata": {
        "id": "8fzRrMhz1nzs"
      }
    },
    {
      "cell_type": "code",
      "source": [],
      "metadata": {
        "id": "dLLwgjdI1qNb"
      },
      "execution_count": null,
      "outputs": []
    },
    {
      "cell_type": "markdown",
      "source": [
        "# How to reverse an array"
      ],
      "metadata": {
        "id": "phDHvsD81tmL"
      }
    },
    {
      "cell_type": "code",
      "source": [],
      "metadata": {
        "id": "6WzRuaup1vHq"
      },
      "execution_count": null,
      "outputs": []
    },
    {
      "cell_type": "markdown",
      "source": [
        "# Reshaping and flattening multidimensional arrays"
      ],
      "metadata": {
        "id": "wS7zbopd1xNZ"
      }
    },
    {
      "cell_type": "code",
      "source": [],
      "metadata": {
        "id": "YH8VYJQ_12-4"
      },
      "execution_count": null,
      "outputs": []
    },
    {
      "cell_type": "markdown",
      "source": [
        "# How to access the docstring for more information"
      ],
      "metadata": {
        "id": "fo8jwv8o1418"
      }
    },
    {
      "cell_type": "code",
      "source": [],
      "metadata": {
        "id": "iwxQA6Dx18Dh"
      },
      "execution_count": null,
      "outputs": []
    },
    {
      "cell_type": "markdown",
      "source": [
        "# Working with mathematical formulas"
      ],
      "metadata": {
        "id": "BYlov9tL2Cma"
      }
    },
    {
      "cell_type": "code",
      "source": [],
      "metadata": {
        "id": "RMBPl6iC2E5H"
      },
      "execution_count": null,
      "outputs": []
    },
    {
      "cell_type": "markdown",
      "source": [
        "# How to save and load NumPy objects"
      ],
      "metadata": {
        "id": "wU-uTd4W2HFY"
      }
    },
    {
      "cell_type": "code",
      "source": [],
      "metadata": {
        "id": "PgUpPb372J7U"
      },
      "execution_count": null,
      "outputs": []
    },
    {
      "cell_type": "markdown",
      "source": [
        "# Importing and exporting a CSV"
      ],
      "metadata": {
        "id": "Olsgacg12MeQ"
      }
    },
    {
      "cell_type": "code",
      "source": [],
      "metadata": {
        "id": "7zoBrPzW2OOW"
      },
      "execution_count": null,
      "outputs": []
    },
    {
      "cell_type": "markdown",
      "source": [
        "# Plotting arrays with Matplotlib"
      ],
      "metadata": {
        "id": "9vz3A0R12Q1a"
      }
    },
    {
      "cell_type": "code",
      "source": [],
      "metadata": {
        "id": "mSpjos3w2TgJ"
      },
      "execution_count": null,
      "outputs": []
    },
    {
      "cell_type": "code",
      "source": [],
      "metadata": {
        "id": "u9vo0v4c3FLm"
      },
      "execution_count": null,
      "outputs": []
    }
  ]
}