{
  "nbformat": 4,
  "nbformat_minor": 0,
  "metadata": {
    "colab": {
      "provenance": [],
      "authorship_tag": "ABX9TyNnnsePRCGo7HBCa3wAVpA+",
      "include_colab_link": true
    },
    "kernelspec": {
      "name": "python3",
      "display_name": "Python 3"
    },
    "language_info": {
      "name": "python"
    }
  },
  "cells": [
    {
      "cell_type": "markdown",
      "metadata": {
        "id": "view-in-github",
        "colab_type": "text"
      },
      "source": [
        "<a href=\"https://colab.research.google.com/github/FredArgoX/ChaoticTest_Numpy/blob/main/02_NumPy__the_absolute_basics_for_beginners.ipynb\" target=\"_parent\"><img src=\"https://colab.research.google.com/assets/colab-badge.svg\" alt=\"Open In Colab\"/></a>"
      ]
    },
    {
      "cell_type": "markdown",
      "source": [
        "Source: [NumPy: the absolute basics for beginners](https://numpy.org/doc/stable/user/absolute_beginners.html)"
      ],
      "metadata": {
        "id": "7ZZ3pcCtzebU"
      }
    },
    {
      "cell_type": "markdown",
      "source": [
        "# How to import NumPy"
      ],
      "metadata": {
        "id": "ebuo39F50ALf"
      }
    },
    {
      "cell_type": "code",
      "source": [],
      "metadata": {
        "id": "JZP5RVy10CBO"
      },
      "execution_count": null,
      "outputs": []
    },
    {
      "cell_type": "markdown",
      "source": [
        "# Reading the example code"
      ],
      "metadata": {
        "id": "El3GLcB-0H-4"
      }
    },
    {
      "cell_type": "code",
      "source": [],
      "metadata": {
        "id": "9irSnxqS0KHh"
      },
      "execution_count": null,
      "outputs": []
    },
    {
      "cell_type": "markdown",
      "source": [
        "# Why use NumPy?"
      ],
      "metadata": {
        "id": "A84C82ic0Kib"
      }
    },
    {
      "cell_type": "code",
      "source": [],
      "metadata": {
        "id": "vvfVzzUR0OMS"
      },
      "execution_count": null,
      "outputs": []
    },
    {
      "cell_type": "markdown",
      "source": [
        "# What is an \"array\"?"
      ],
      "metadata": {
        "id": "W9Uq2KnV0Pmq"
      }
    },
    {
      "cell_type": "code",
      "source": [],
      "metadata": {
        "id": "0xN6Zkmd0SBN"
      },
      "execution_count": null,
      "outputs": []
    },
    {
      "cell_type": "markdown",
      "source": [
        "# Array fundamentals"
      ],
      "metadata": {
        "id": "Upjy2aUV0Taz"
      }
    },
    {
      "cell_type": "code",
      "source": [],
      "metadata": {
        "id": "CApTQwJv0Upx"
      },
      "execution_count": null,
      "outputs": []
    },
    {
      "cell_type": "markdown",
      "source": [
        "# Array attributes"
      ],
      "metadata": {
        "id": "KGEcMXe-0XPl"
      }
    },
    {
      "cell_type": "code",
      "source": [],
      "metadata": {
        "id": "az2HKK0t0aQ4"
      },
      "execution_count": null,
      "outputs": []
    },
    {
      "cell_type": "markdown",
      "source": [
        "# How to create a basic array?"
      ],
      "metadata": {
        "id": "oMIgG2ev0bsk"
      }
    },
    {
      "cell_type": "code",
      "source": [],
      "metadata": {
        "id": "ucDEST8l0eRL"
      },
      "execution_count": null,
      "outputs": []
    },
    {
      "cell_type": "markdown",
      "source": [
        "# Adding, removing, and sorting elements"
      ],
      "metadata": {
        "id": "f1Y7BV9b0gAU"
      }
    },
    {
      "cell_type": "code",
      "source": [],
      "metadata": {
        "id": "rIVRD2gi0ivN"
      },
      "execution_count": null,
      "outputs": []
    },
    {
      "cell_type": "markdown",
      "source": [
        "# How do you know the shape and size of an array?"
      ],
      "metadata": {
        "id": "Zhj-IQLv0kEO"
      }
    },
    {
      "cell_type": "code",
      "source": [],
      "metadata": {
        "id": "Qi0NnBMA0mmk"
      },
      "execution_count": null,
      "outputs": []
    },
    {
      "cell_type": "markdown",
      "source": [
        "# Can you reshape an array?"
      ],
      "metadata": {
        "id": "Q1XiwWQd0pw8"
      }
    },
    {
      "cell_type": "code",
      "source": [],
      "metadata": {
        "id": "CWg-bsFA0r2P"
      },
      "execution_count": null,
      "outputs": []
    },
    {
      "cell_type": "markdown",
      "source": [
        "# How to convert a 1D array into a 2D array (how to add a new axis to an array)"
      ],
      "metadata": {
        "id": "J4WTXpyu0tkE"
      }
    },
    {
      "cell_type": "code",
      "source": [],
      "metadata": {
        "id": "pYmj_heh0z_o"
      },
      "execution_count": null,
      "outputs": []
    },
    {
      "cell_type": "markdown",
      "source": [
        "# Indexing and slicing"
      ],
      "metadata": {
        "id": "PSrheJxs01-m"
      }
    },
    {
      "cell_type": "code",
      "source": [],
      "metadata": {
        "id": "PWehnpDl03Vd"
      },
      "execution_count": null,
      "outputs": []
    },
    {
      "cell_type": "markdown",
      "source": [
        "# How to create an array from existing data?"
      ],
      "metadata": {
        "id": "AY9f5Z431EoT"
      }
    },
    {
      "cell_type": "code",
      "source": [],
      "metadata": {
        "id": "EFMaZSB31Mil"
      },
      "execution_count": null,
      "outputs": []
    },
    {
      "cell_type": "markdown",
      "source": [
        "# Basic array operations"
      ],
      "metadata": {
        "id": "zeeuiS981Mou"
      }
    },
    {
      "cell_type": "code",
      "source": [],
      "metadata": {
        "id": "aMGfYRwc1PKP"
      },
      "execution_count": null,
      "outputs": []
    },
    {
      "cell_type": "markdown",
      "source": [
        "# Broadcasting"
      ],
      "metadata": {
        "id": "NkK_gPzi1Qj4"
      }
    },
    {
      "cell_type": "code",
      "source": [],
      "metadata": {
        "id": "7Diy3QHQ1RuF"
      },
      "execution_count": null,
      "outputs": []
    },
    {
      "cell_type": "markdown",
      "source": [
        "# More useful array operations"
      ],
      "metadata": {
        "id": "egodi56f1Szx"
      }
    },
    {
      "cell_type": "code",
      "source": [],
      "metadata": {
        "id": "_FBGOYg01Ug2"
      },
      "execution_count": null,
      "outputs": []
    },
    {
      "cell_type": "markdown",
      "source": [
        "# Creating matrices"
      ],
      "metadata": {
        "id": "9KMywgrL1WUa"
      }
    },
    {
      "cell_type": "code",
      "source": [],
      "metadata": {
        "id": "fdbtST9C1XmH"
      },
      "execution_count": null,
      "outputs": []
    }
  ]
}