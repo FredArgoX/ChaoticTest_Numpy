{
  "nbformat": 4,
  "nbformat_minor": 0,
  "metadata": {
    "colab": {
      "provenance": [],
      "authorship_tag": "ABX9TyM+tUjwpghsDV9yCEMpcHwj",
      "include_colab_link": true
    },
    "kernelspec": {
      "name": "python3",
      "display_name": "Python 3"
    },
    "language_info": {
      "name": "python"
    }
  },
  "cells": [
    {
      "cell_type": "markdown",
      "metadata": {
        "id": "view-in-github",
        "colab_type": "text"
      },
      "source": [
        "<a href=\"https://colab.research.google.com/github/FredArgoX/ChaoticTest_Numpy/blob/main/02_NumPy__the_absolute_basics_for_beginners.ipynb\" target=\"_parent\"><img src=\"https://colab.research.google.com/assets/colab-badge.svg\" alt=\"Open In Colab\"/></a>"
      ]
    },
    {
      "cell_type": "markdown",
      "source": [
        "Source: [NumPy: the absolute basics for beginners](https://numpy.org/doc/stable/user/absolute_beginners.html)"
      ],
      "metadata": {
        "id": "7ZZ3pcCtzebU"
      }
    },
    {
      "cell_type": "markdown",
      "source": [
        "# NumPy: the absolute basics for beginners\n",
        "\n",
        "Welcome to the absolute beginner's guide to NumPy!\n",
        "\n",
        "NumPy (Numerical Python) is an open source Python library that's widely used in science and engineering. The NumPy library contains multidimensional array data structures, such as the homogeneous, N-dimensional `ndarray`, and a large library of functions that operate efficiently on these data structures.\n"
      ],
      "metadata": {
        "id": "EORAnbNHNPIv"
      }
    },
    {
      "cell_type": "markdown",
      "source": [
        "# How to import NumPy"
      ],
      "metadata": {
        "id": "ebuo39F50ALf"
      }
    },
    {
      "cell_type": "markdown",
      "source": [
        "After installing NumPy, it may be imported into Python code like:"
      ],
      "metadata": {
        "id": "kuyJJT3KOgDs"
      }
    },
    {
      "cell_type": "code",
      "source": [
        "import numpy as np"
      ],
      "metadata": {
        "id": "JZP5RVy10CBO"
      },
      "execution_count": 1,
      "outputs": []
    },
    {
      "cell_type": "markdown",
      "source": [
        "The widespread convention allows access to NumPy features with a short, recognizable prefix (`np.`) while distinguishing NumPy features from others that have the same name."
      ],
      "metadata": {
        "id": "IGWPQrg_OovV"
      }
    },
    {
      "cell_type": "markdown",
      "source": [
        "# Reading the example code"
      ],
      "metadata": {
        "id": "El3GLcB-0H-4"
      }
    },
    {
      "cell_type": "markdown",
      "source": [
        "Throughout the NumPy documentation, you will find blocks that look like:"
      ],
      "metadata": {
        "id": "GpD_lmliT3fX"
      }
    },
    {
      "cell_type": "code",
      "source": [
        "a = np.array([[1, 2, 3],\n",
        "              [4, 5, 6]])\n",
        "\n",
        "a.shape"
      ],
      "metadata": {
        "id": "9irSnxqS0KHh",
        "colab": {
          "base_uri": "https://localhost:8080/"
        },
        "outputId": "e2de8891-3022-4126-a92f-341caaf23bb5"
      },
      "execution_count": 2,
      "outputs": [
        {
          "output_type": "execute_result",
          "data": {
            "text/plain": [
              "(2, 3)"
            ]
          },
          "metadata": {},
          "execution_count": 2
        }
      ]
    },
    {
      "cell_type": "markdown",
      "source": [
        "Text preceded by `>>>` or `...` is input, the code that you would enter in a script or at a Python prompt. Everything else is output, the results of running your code. Note that `>>>` and `...` are not part of the code and may cause an error if entered at a Python prompt."
      ],
      "metadata": {
        "id": "3aPJD91cUl8j"
      }
    },
    {
      "cell_type": "markdown",
      "source": [
        "# Why use NumPy?"
      ],
      "metadata": {
        "id": "A84C82ic0Kib"
      }
    },
    {
      "cell_type": "markdown",
      "source": [
        "Python lists are excellent, general-purpose containers. They can be \"heterogeneous\", meaning that they can contain elements of a variety of types, and they are quite fast when used to perform individual operations on a handful of elements.\n",
        "\n",
        "Depending on the characteristics of the data and the types of operations that need to be performed, other contaners may be more appropriate; by expoiting these characteristics, we can improve speed, reduce memory consumption, and offer a high-level syntax for performing a variety of common processing tasks. NumPy shines when there are large quantities of \"homogeneous\" (same-type) data to be processed on the CPU."
      ],
      "metadata": {
        "id": "W-dk3pi4VS8u"
      }
    },
    {
      "cell_type": "markdown",
      "source": [
        "# What is an \"array\"?"
      ],
      "metadata": {
        "id": "W9Uq2KnV0Pmq"
      }
    },
    {
      "cell_type": "markdown",
      "source": [
        "In computer programming, an array is a structure for storing and retrieving data. We often talk about an array as if it were a grid in space, with each cell storing one element of the data. For instance, if each element of the data were a number, we might visualize a \"one-dimensional\" array like a list:"
      ],
      "metadata": {
        "id": "8bPmJ5derrNe"
      }
    },
    {
      "cell_type": "markdown",
      "source": [
        "\\\n",
        "\\begin{array}{|c|c|c|c|}\n",
        "\\hline\n",
        "1 & 5 & 2 & 0 \\\\\n",
        "\\hline\n",
        "\\end{array}\n"
      ],
      "metadata": {
        "id": "Le6u3k2ksMSv"
      }
    },
    {
      "cell_type": "markdown",
      "source": [
        "A two-dimensional array would be like a table:"
      ],
      "metadata": {
        "id": "jEBKt0jAs63h"
      }
    },
    {
      "cell_type": "markdown",
      "source": [
        "\\\n",
        "\\begin{array}{|c|c|c|c|}\n",
        "\\hline\n",
        "1 & 5 & 2 & 0 \\\\\n",
        "\\hline\n",
        "8 & 3 & 6 & 1 \\\\\n",
        "\\hline\n",
        "1 & 7 & 2 & 9 \\\\\n",
        "\\hline\n",
        "\\end{array}\n"
      ],
      "metadata": {
        "id": "rImDebMntA55"
      }
    },
    {
      "cell_type": "markdown",
      "source": [
        "A three-dimensional array would be like a set of tables, perhaps stacked as though they were printed on separate pages. In NumPy, this idea is generalized to an arbitrary number of dimensions, and so the fundamental array class is called `ndarray`: it represents an \"N-dimensional array\".\n",
        "\n",
        "Most NumPy arrays have some restrictions. For instance:\n",
        "\n",
        "- All elements of the array must be of the same type of data.\n",
        "- Once created, the total size of the array can't change.\n",
        "- The shape must be \"rectangular\", not \"jagged\"; e.g., each row of a two-dimensional array must have the same number of columns.\n",
        "\n",
        "When these conditions are met, NumPy exploits these characteristics to make the array faster, more memory efficient, and more convenient to use than less restrictive data structures.\n",
        "\n",
        "For the remainder of this document, we will use the word \"array\" to refer to an instance of `ndarray`.\n"
      ],
      "metadata": {
        "id": "ymv1KwZ9tYiT"
      }
    },
    {
      "cell_type": "markdown",
      "source": [
        "# Array fundamentals"
      ],
      "metadata": {
        "id": "Upjy2aUV0Taz"
      }
    },
    {
      "cell_type": "markdown",
      "source": [
        "One way to initialize an array is using a Python sequence, such as a list. For example:"
      ],
      "metadata": {
        "id": "n4HxctSkHQ9d"
      }
    },
    {
      "cell_type": "code",
      "source": [
        "a = np.array([1, 2, 3, 4, 5, 6])\n",
        "a"
      ],
      "metadata": {
        "id": "CApTQwJv0Upx",
        "colab": {
          "base_uri": "https://localhost:8080/"
        },
        "outputId": "6b303660-9222-46a5-b88e-dc7a053e1b72"
      },
      "execution_count": 3,
      "outputs": [
        {
          "output_type": "execute_result",
          "data": {
            "text/plain": [
              "array([1, 2, 3, 4, 5, 6])"
            ]
          },
          "metadata": {},
          "execution_count": 3
        }
      ]
    },
    {
      "cell_type": "markdown",
      "source": [
        "Elements of an array can be accessed in various ways. For instance, we can access an individual element of this array as we would access an element in the original list: using the integer index of the element within square brackets."
      ],
      "metadata": {
        "id": "M8KV389hHgTO"
      }
    },
    {
      "cell_type": "code",
      "source": [
        "a[0]"
      ],
      "metadata": {
        "colab": {
          "base_uri": "https://localhost:8080/"
        },
        "id": "oDJMZSjMHxm2",
        "outputId": "5ca1c26d-0984-4c0e-f68d-e6828010969d"
      },
      "execution_count": 4,
      "outputs": [
        {
          "output_type": "execute_result",
          "data": {
            "text/plain": [
              "np.int64(1)"
            ]
          },
          "metadata": {},
          "execution_count": 4
        }
      ]
    },
    {
      "cell_type": "markdown",
      "source": [
        "As with built-in Python sequences, NumPy arrays are \"0-indexed\": the first element of the array is accessed using index `0`, not `1`.\n",
        "\n"
      ],
      "metadata": {
        "id": "GRbhuPF8H1od"
      }
    },
    {
      "cell_type": "markdown",
      "source": [
        "Like the original list, the array is mutable."
      ],
      "metadata": {
        "id": "e_GoSPjSIr3k"
      }
    },
    {
      "cell_type": "code",
      "source": [
        "a[0] = 10\n",
        "a"
      ],
      "metadata": {
        "colab": {
          "base_uri": "https://localhost:8080/"
        },
        "id": "vyHkdnPvIwFb",
        "outputId": "ffd39ae0-8161-49d1-fa8e-9b842d65d08d"
      },
      "execution_count": 5,
      "outputs": [
        {
          "output_type": "execute_result",
          "data": {
            "text/plain": [
              "array([10,  2,  3,  4,  5,  6])"
            ]
          },
          "metadata": {},
          "execution_count": 5
        }
      ]
    },
    {
      "cell_type": "markdown",
      "source": [
        "Also like the original list, Python slice notation can be used for indexing."
      ],
      "metadata": {
        "id": "Gh6JXmsCIz3d"
      }
    },
    {
      "cell_type": "code",
      "source": [
        "a[:3]"
      ],
      "metadata": {
        "colab": {
          "base_uri": "https://localhost:8080/"
        },
        "id": "xS0bMUc8JAM0",
        "outputId": "e2a08b83-a7ec-43d7-de79-de409dbe3c38"
      },
      "execution_count": 6,
      "outputs": [
        {
          "output_type": "execute_result",
          "data": {
            "text/plain": [
              "array([10,  2,  3])"
            ]
          },
          "metadata": {},
          "execution_count": 6
        }
      ]
    },
    {
      "cell_type": "markdown",
      "source": [
        "One major difference is that slice indexing of a list copies the elements into a new list, but slicing an array returns a *view*: an object that refers to the data in the original array. The original array can be mutated using the view."
      ],
      "metadata": {
        "id": "t5b3XFrMJD-o"
      }
    },
    {
      "cell_type": "code",
      "source": [
        "b = a[3:]\n",
        "b"
      ],
      "metadata": {
        "colab": {
          "base_uri": "https://localhost:8080/"
        },
        "id": "Buaw9NZtJhlx",
        "outputId": "e1a6484f-4f47-4d82-96ce-9351fe2398dc"
      },
      "execution_count": 7,
      "outputs": [
        {
          "output_type": "execute_result",
          "data": {
            "text/plain": [
              "array([4, 5, 6])"
            ]
          },
          "metadata": {},
          "execution_count": 7
        }
      ]
    },
    {
      "cell_type": "code",
      "source": [
        "b[0] = 40\n",
        "a"
      ],
      "metadata": {
        "colab": {
          "base_uri": "https://localhost:8080/"
        },
        "id": "3ooeZxEoJmmr",
        "outputId": "c4e92b91-9f0e-42f8-8880-f40bcffd4456"
      },
      "execution_count": 8,
      "outputs": [
        {
          "output_type": "execute_result",
          "data": {
            "text/plain": [
              "array([10,  2,  3, 40,  5,  6])"
            ]
          },
          "metadata": {},
          "execution_count": 8
        }
      ]
    },
    {
      "cell_type": "markdown",
      "source": [
        "Two-and higher-dimensional arrays can be initialized from nested Python sequences:"
      ],
      "metadata": {
        "id": "cAkB0FxYJ9lP"
      }
    },
    {
      "cell_type": "code",
      "source": [
        "a = np.array([[1, 2, 3, 4],\n",
        "              [5, 6, 7, 8],\n",
        "              [9, 10, 11, 12]])\n",
        "a"
      ],
      "metadata": {
        "colab": {
          "base_uri": "https://localhost:8080/"
        },
        "id": "L9nQwPGBKGVF",
        "outputId": "25b8f6ff-a448-4823-c49b-6361a25e0a9b"
      },
      "execution_count": 9,
      "outputs": [
        {
          "output_type": "execute_result",
          "data": {
            "text/plain": [
              "array([[ 1,  2,  3,  4],\n",
              "       [ 5,  6,  7,  8],\n",
              "       [ 9, 10, 11, 12]])"
            ]
          },
          "metadata": {},
          "execution_count": 9
        }
      ]
    },
    {
      "cell_type": "markdown",
      "source": [
        "In NumPy, a dimension of an array is sometimes referred to as an \"axis\". This terminology may be useful to disambiguate between the dimensionality of an array and the dimensionality of the data represented by the array. For instance, the array `a` could represent three points, each lying within a four-dimensional space, but `a` has only two \"axes\".\n",
        "\n",
        "Another difference between an array and a list of lists is that an element of the array can be accessed by specifying the index along each axis within a *single* set of square brackets, separated by commas. For instance, the element `8` is in row `1` and column `3`:\n"
      ],
      "metadata": {
        "id": "KB7zzRtzKTpJ"
      }
    },
    {
      "cell_type": "code",
      "source": [
        "a[1, 3]"
      ],
      "metadata": {
        "colab": {
          "base_uri": "https://localhost:8080/"
        },
        "id": "LKQ-EIfnLeqQ",
        "outputId": "b2f7bbc4-9268-4b41-8a50-bba9e72fd5a3"
      },
      "execution_count": 10,
      "outputs": [
        {
          "output_type": "execute_result",
          "data": {
            "text/plain": [
              "np.int64(8)"
            ]
          },
          "metadata": {},
          "execution_count": 10
        }
      ]
    },
    {
      "cell_type": "markdown",
      "source": [
        "It is familiar practice in mathematics to refer to elements of a matrix by the row index first and the column index second. This happens to be true for two-dimensional arrays, but a better mental model is to think of the column index as coming *last* and the row index as *second to last*. This generalizes to arrays with any number of dimensions."
      ],
      "metadata": {
        "id": "cRyCNpvfLm9w"
      }
    },
    {
      "cell_type": "markdown",
      "source": [
        "You might hear of a 0-D (zero-dimensional) array referred to as a \"scalar\", a 1-D (one-dimensional) array as a \"vector\", a 2-D (two-dimensional) array as a \"matrix\", or an N-D (N-dimensional, where \"N\" is typically an integer greater than 2) array as a \"tensor\". For clarity, it is best to avoid the mathematical terms when referring to an array because the mathematical objects with these names behave differently than arrays (e.g., \"matrix\" multiplication is fundamentally different from \"array\" multiplication), and there are other objects in the scientific Python ecosystem that have these names (e.g., the fundamental data structure of PyTorch is the \"tensor\").\n"
      ],
      "metadata": {
        "id": "g1BPoVQsMRzL"
      }
    },
    {
      "cell_type": "markdown",
      "source": [
        "# Array attributes"
      ],
      "metadata": {
        "id": "KGEcMXe-0XPl"
      }
    },
    {
      "cell_type": "markdown",
      "source": [
        "*This section covers the* `ndim`, `shape`, `size`, *and* `dtype`*attributes of an array*."
      ],
      "metadata": {
        "id": "aL4N2kgKNy_u"
      }
    },
    {
      "cell_type": "markdown",
      "source": [
        "The number of dimensions of an array is contained in the `ndim` attribute."
      ],
      "metadata": {
        "id": "t97h0BAAOF2i"
      }
    },
    {
      "cell_type": "code",
      "source": [
        "a.ndim"
      ],
      "metadata": {
        "colab": {
          "base_uri": "https://localhost:8080/"
        },
        "id": "QXsQ4KyoJl4J",
        "outputId": "7e474c28-6ebf-45a9-b125-530b2e3b6994"
      },
      "execution_count": 11,
      "outputs": [
        {
          "output_type": "execute_result",
          "data": {
            "text/plain": [
              "2"
            ]
          },
          "metadata": {},
          "execution_count": 11
        }
      ]
    },
    {
      "cell_type": "markdown",
      "source": [
        "The shape of an array is a tuple of non-negative integers that specify the number of elements along each dimension."
      ],
      "metadata": {
        "id": "0HSc-v4xOREm"
      }
    },
    {
      "cell_type": "code",
      "source": [
        "a.shape"
      ],
      "metadata": {
        "id": "az2HKK0t0aQ4",
        "colab": {
          "base_uri": "https://localhost:8080/"
        },
        "outputId": "8a966a5a-1e1b-4769-9be7-6d42e45db42a"
      },
      "execution_count": 12,
      "outputs": [
        {
          "output_type": "execute_result",
          "data": {
            "text/plain": [
              "(3, 4)"
            ]
          },
          "metadata": {},
          "execution_count": 12
        }
      ]
    },
    {
      "cell_type": "code",
      "source": [
        "len(a.shape) == a.ndim"
      ],
      "metadata": {
        "colab": {
          "base_uri": "https://localhost:8080/"
        },
        "id": "Y0y-cXBEOehe",
        "outputId": "8b16d0ef-a57f-462e-a96e-a0c981aff58a"
      },
      "execution_count": 13,
      "outputs": [
        {
          "output_type": "execute_result",
          "data": {
            "text/plain": [
              "True"
            ]
          },
          "metadata": {},
          "execution_count": 13
        }
      ]
    },
    {
      "cell_type": "markdown",
      "source": [
        "The fixed, total number of elements in array is contained in the `size` attribute."
      ],
      "metadata": {
        "id": "prlQiHZcOmZo"
      }
    },
    {
      "cell_type": "code",
      "source": [
        "a.size"
      ],
      "metadata": {
        "colab": {
          "base_uri": "https://localhost:8080/"
        },
        "id": "gneeJLm0Olt4",
        "outputId": "491e2d0d-26bb-4074-ab77-16d0b66c5075"
      },
      "execution_count": 14,
      "outputs": [
        {
          "output_type": "execute_result",
          "data": {
            "text/plain": [
              "12"
            ]
          },
          "metadata": {},
          "execution_count": 14
        }
      ]
    },
    {
      "cell_type": "code",
      "source": [
        "import math\n",
        "a.size == math.prod(a.shape)"
      ],
      "metadata": {
        "colab": {
          "base_uri": "https://localhost:8080/"
        },
        "id": "yYyxCEixOvdX",
        "outputId": "214b60e2-a7cb-443c-8c3a-960bf1f3309d"
      },
      "execution_count": 15,
      "outputs": [
        {
          "output_type": "execute_result",
          "data": {
            "text/plain": [
              "True"
            ]
          },
          "metadata": {},
          "execution_count": 15
        }
      ]
    },
    {
      "cell_type": "markdown",
      "source": [
        "Arrays are typically \"homogeneous\", meaning that they contain elements of only one \"data type\". The data type is recorded in the `dtype` attribute."
      ],
      "metadata": {
        "id": "X_MICH6bPj5r"
      }
    },
    {
      "cell_type": "code",
      "source": [
        "a.dtype"
      ],
      "metadata": {
        "colab": {
          "base_uri": "https://localhost:8080/"
        },
        "id": "T36qVEciPwdh",
        "outputId": "9df50fd0-c20c-4c4f-be91-72a0e44f6ee6"
      },
      "execution_count": 16,
      "outputs": [
        {
          "output_type": "execute_result",
          "data": {
            "text/plain": [
              "dtype('int64')"
            ]
          },
          "metadata": {},
          "execution_count": 16
        }
      ]
    },
    {
      "cell_type": "markdown",
      "source": [
        "# How to create a basic array?"
      ],
      "metadata": {
        "id": "oMIgG2ev0bsk"
      }
    },
    {
      "cell_type": "markdown",
      "source": [
        "*This section covers* `np.zeros()`, `np.ones()`, `np.empty()`, `np.arange()`, `np.linspace()`"
      ],
      "metadata": {
        "id": "-nkdtno7P1pp"
      }
    },
    {
      "cell_type": "markdown",
      "source": [
        "Besides creating an array from a sequence of elements, you can easily create an array filled with `0`'s:"
      ],
      "metadata": {
        "id": "k9fRxEp_QBw0"
      }
    },
    {
      "cell_type": "code",
      "source": [
        "np.zeros(2)"
      ],
      "metadata": {
        "colab": {
          "base_uri": "https://localhost:8080/"
        },
        "id": "3Y5F_G1cQBIW",
        "outputId": "afac5aa0-3495-490c-f6e8-07adf2c7b75d"
      },
      "execution_count": 17,
      "outputs": [
        {
          "output_type": "execute_result",
          "data": {
            "text/plain": [
              "array([0., 0.])"
            ]
          },
          "metadata": {},
          "execution_count": 17
        }
      ]
    },
    {
      "cell_type": "markdown",
      "source": [
        "Or an array filled with `1`'s:"
      ],
      "metadata": {
        "id": "b-3iSNIDQPSu"
      }
    },
    {
      "cell_type": "code",
      "source": [
        "np.ones(2)"
      ],
      "metadata": {
        "id": "ucDEST8l0eRL",
        "colab": {
          "base_uri": "https://localhost:8080/"
        },
        "outputId": "a7f70b4f-23c0-40b8-f06e-7a1a30d098d6"
      },
      "execution_count": 18,
      "outputs": [
        {
          "output_type": "execute_result",
          "data": {
            "text/plain": [
              "array([1., 1.])"
            ]
          },
          "metadata": {},
          "execution_count": 18
        }
      ]
    },
    {
      "cell_type": "markdown",
      "source": [
        "Or even an empty array! The function `empty` creates an array whose initial content is random and depends on the state of the memory. The reason to use `empty` over `zeros` (or something similar) is speed - just make sure to fill every element afterwards!"
      ],
      "metadata": {
        "id": "JtYbcv6kQZQo"
      }
    },
    {
      "cell_type": "code",
      "source": [
        "# Create an empty array with 2 elements\n",
        "np.empty(20)"
      ],
      "metadata": {
        "colab": {
          "base_uri": "https://localhost:8080/"
        },
        "id": "22xOtV0AQzop",
        "outputId": "cc1d1e6f-4765-4a53-cc98-80f65b5f362d"
      },
      "execution_count": 28,
      "outputs": [
        {
          "output_type": "execute_result",
          "data": {
            "text/plain": [
              "array([0. , 0. , 0.3, 1. , 0. , 0. , 1. , 1. , 1. , 1. , 1. , 1. , 1. ,\n",
              "       0. , 0. , 1. , 0.5, 0. , 0. , 1. ])"
            ]
          },
          "metadata": {},
          "execution_count": 28
        }
      ]
    },
    {
      "cell_type": "markdown",
      "source": [
        "You can create an array with a range of elements:"
      ],
      "metadata": {
        "id": "J4-saTziQ-5t"
      }
    },
    {
      "cell_type": "code",
      "source": [
        "np.arange(4)"
      ],
      "metadata": {
        "colab": {
          "base_uri": "https://localhost:8080/"
        },
        "id": "ZeO3CT8dRDLA",
        "outputId": "60fe8cb0-c751-46a4-d779-27977022f7db"
      },
      "execution_count": 29,
      "outputs": [
        {
          "output_type": "execute_result",
          "data": {
            "text/plain": [
              "array([0, 1, 2, 3])"
            ]
          },
          "metadata": {},
          "execution_count": 29
        }
      ]
    },
    {
      "cell_type": "markdown",
      "source": [
        "And even an array that contains a range of evenly spaced intervals. To do this, you will specify the first number, last number, and the step size."
      ],
      "metadata": {
        "id": "GyxY6s3gRIZk"
      }
    },
    {
      "cell_type": "code",
      "source": [
        "np.arange(2, 9, 2)"
      ],
      "metadata": {
        "colab": {
          "base_uri": "https://localhost:8080/"
        },
        "id": "Lv3eEG87RVrK",
        "outputId": "a8274816-f1a2-4890-d554-ded12c90ee4b"
      },
      "execution_count": 30,
      "outputs": [
        {
          "output_type": "execute_result",
          "data": {
            "text/plain": [
              "array([2, 4, 6, 8])"
            ]
          },
          "metadata": {},
          "execution_count": 30
        }
      ]
    },
    {
      "cell_type": "markdown",
      "source": [
        "You can also use `np.linspace()` to create an array with values that are spaced linearly in a specified interval:"
      ],
      "metadata": {
        "id": "7cpwPp2FRcSD"
      }
    },
    {
      "cell_type": "code",
      "source": [
        "np.linspace(0, 10, num=5)"
      ],
      "metadata": {
        "colab": {
          "base_uri": "https://localhost:8080/"
        },
        "id": "VZiRJdPHRVvb",
        "outputId": "a94044df-1c03-4e10-f9de-4f6f37348558"
      },
      "execution_count": 31,
      "outputs": [
        {
          "output_type": "execute_result",
          "data": {
            "text/plain": [
              "array([ 0. ,  2.5,  5. ,  7.5, 10. ])"
            ]
          },
          "metadata": {},
          "execution_count": 31
        }
      ]
    },
    {
      "cell_type": "code",
      "source": [
        "np.linspace(0, 10, num=6)"
      ],
      "metadata": {
        "colab": {
          "base_uri": "https://localhost:8080/"
        },
        "id": "-X3sbRgLRt4A",
        "outputId": "171db283-f097-4ab8-f3ec-20d612ca5558"
      },
      "execution_count": 32,
      "outputs": [
        {
          "output_type": "execute_result",
          "data": {
            "text/plain": [
              "array([ 0.,  2.,  4.,  6.,  8., 10.])"
            ]
          },
          "metadata": {},
          "execution_count": 32
        }
      ]
    },
    {
      "cell_type": "code",
      "source": [
        "np.linspace(0, 10, num=7)"
      ],
      "metadata": {
        "colab": {
          "base_uri": "https://localhost:8080/"
        },
        "id": "AXL-6irNRVyr",
        "outputId": "d904c8d9-ec3e-411a-81e7-3812c0adebf1"
      },
      "execution_count": 33,
      "outputs": [
        {
          "output_type": "execute_result",
          "data": {
            "text/plain": [
              "array([ 0.        ,  1.66666667,  3.33333333,  5.        ,  6.66666667,\n",
              "        8.33333333, 10.        ])"
            ]
          },
          "metadata": {},
          "execution_count": 33
        }
      ]
    },
    {
      "cell_type": "markdown",
      "source": [
        "**Specifying your data type**\n",
        "\n",
        "While the default data type is floating point (`np.float64`), you can explicitly specify wich data type you want using the `dtype` keyword."
      ],
      "metadata": {
        "id": "dQ2x-6LUR10w"
      }
    },
    {
      "cell_type": "code",
      "source": [
        "x = np.ones(2, dtype=np.int64)\n",
        "x"
      ],
      "metadata": {
        "colab": {
          "base_uri": "https://localhost:8080/"
        },
        "id": "iI0O0OiBSPiC",
        "outputId": "969f88e5-9a97-4a0c-ebb2-fb1ecc0344d6"
      },
      "execution_count": 34,
      "outputs": [
        {
          "output_type": "execute_result",
          "data": {
            "text/plain": [
              "array([1, 1])"
            ]
          },
          "metadata": {},
          "execution_count": 34
        }
      ]
    },
    {
      "cell_type": "markdown",
      "source": [
        "# Adding, removing, and sorting elements"
      ],
      "metadata": {
        "id": "f1Y7BV9b0gAU"
      }
    },
    {
      "cell_type": "code",
      "source": [],
      "metadata": {
        "id": "rIVRD2gi0ivN"
      },
      "execution_count": null,
      "outputs": []
    },
    {
      "cell_type": "markdown",
      "source": [
        "# How do you know the shape and size of an array?"
      ],
      "metadata": {
        "id": "Zhj-IQLv0kEO"
      }
    },
    {
      "cell_type": "code",
      "source": [],
      "metadata": {
        "id": "Qi0NnBMA0mmk"
      },
      "execution_count": null,
      "outputs": []
    },
    {
      "cell_type": "markdown",
      "source": [
        "# Can you reshape an array?"
      ],
      "metadata": {
        "id": "Q1XiwWQd0pw8"
      }
    },
    {
      "cell_type": "code",
      "source": [],
      "metadata": {
        "id": "CWg-bsFA0r2P"
      },
      "execution_count": null,
      "outputs": []
    },
    {
      "cell_type": "markdown",
      "source": [
        "# How to convert a 1D array into a 2D array (how to add a new axis to an array)"
      ],
      "metadata": {
        "id": "J4WTXpyu0tkE"
      }
    },
    {
      "cell_type": "code",
      "source": [],
      "metadata": {
        "id": "pYmj_heh0z_o"
      },
      "execution_count": null,
      "outputs": []
    },
    {
      "cell_type": "markdown",
      "source": [
        "# Indexing and slicing"
      ],
      "metadata": {
        "id": "PSrheJxs01-m"
      }
    },
    {
      "cell_type": "code",
      "source": [],
      "metadata": {
        "id": "PWehnpDl03Vd"
      },
      "execution_count": null,
      "outputs": []
    },
    {
      "cell_type": "markdown",
      "source": [
        "# How to create an array from existing data?"
      ],
      "metadata": {
        "id": "AY9f5Z431EoT"
      }
    },
    {
      "cell_type": "code",
      "source": [],
      "metadata": {
        "id": "EFMaZSB31Mil"
      },
      "execution_count": null,
      "outputs": []
    },
    {
      "cell_type": "markdown",
      "source": [
        "# Basic array operations"
      ],
      "metadata": {
        "id": "zeeuiS981Mou"
      }
    },
    {
      "cell_type": "code",
      "source": [],
      "metadata": {
        "id": "aMGfYRwc1PKP"
      },
      "execution_count": null,
      "outputs": []
    },
    {
      "cell_type": "markdown",
      "source": [
        "# Broadcasting"
      ],
      "metadata": {
        "id": "NkK_gPzi1Qj4"
      }
    },
    {
      "cell_type": "code",
      "source": [],
      "metadata": {
        "id": "7Diy3QHQ1RuF"
      },
      "execution_count": null,
      "outputs": []
    },
    {
      "cell_type": "markdown",
      "source": [
        "# More useful array operations"
      ],
      "metadata": {
        "id": "egodi56f1Szx"
      }
    },
    {
      "cell_type": "code",
      "source": [],
      "metadata": {
        "id": "_FBGOYg01Ug2"
      },
      "execution_count": null,
      "outputs": []
    },
    {
      "cell_type": "markdown",
      "source": [
        "# Creating matrices"
      ],
      "metadata": {
        "id": "9KMywgrL1WUa"
      }
    },
    {
      "cell_type": "code",
      "source": [],
      "metadata": {
        "id": "fdbtST9C1XmH"
      },
      "execution_count": null,
      "outputs": []
    },
    {
      "cell_type": "markdown",
      "source": [
        "# Generating random numbers"
      ],
      "metadata": {
        "id": "o5e5huTd1fha"
      }
    },
    {
      "cell_type": "code",
      "source": [],
      "metadata": {
        "id": "_kCGrOsW1hAV"
      },
      "execution_count": null,
      "outputs": []
    },
    {
      "cell_type": "markdown",
      "source": [
        "# How to get unique items and counts"
      ],
      "metadata": {
        "id": "kG6iPR_J1iY2"
      }
    },
    {
      "cell_type": "code",
      "source": [],
      "metadata": {
        "id": "j50KpsEs1kvg"
      },
      "execution_count": null,
      "outputs": []
    },
    {
      "cell_type": "markdown",
      "source": [
        "# Transposing and reshaping a matrix"
      ],
      "metadata": {
        "id": "8fzRrMhz1nzs"
      }
    },
    {
      "cell_type": "code",
      "source": [],
      "metadata": {
        "id": "dLLwgjdI1qNb"
      },
      "execution_count": null,
      "outputs": []
    },
    {
      "cell_type": "markdown",
      "source": [
        "# How to reverse an array"
      ],
      "metadata": {
        "id": "phDHvsD81tmL"
      }
    },
    {
      "cell_type": "code",
      "source": [],
      "metadata": {
        "id": "6WzRuaup1vHq"
      },
      "execution_count": null,
      "outputs": []
    },
    {
      "cell_type": "markdown",
      "source": [
        "# Reshaping and flattening multidimensional arrays"
      ],
      "metadata": {
        "id": "wS7zbopd1xNZ"
      }
    },
    {
      "cell_type": "code",
      "source": [],
      "metadata": {
        "id": "YH8VYJQ_12-4"
      },
      "execution_count": null,
      "outputs": []
    },
    {
      "cell_type": "markdown",
      "source": [
        "# How to access the docstring for more information"
      ],
      "metadata": {
        "id": "fo8jwv8o1418"
      }
    },
    {
      "cell_type": "code",
      "source": [],
      "metadata": {
        "id": "iwxQA6Dx18Dh"
      },
      "execution_count": null,
      "outputs": []
    },
    {
      "cell_type": "markdown",
      "source": [
        "# Working with mathematical formulas"
      ],
      "metadata": {
        "id": "BYlov9tL2Cma"
      }
    },
    {
      "cell_type": "code",
      "source": [],
      "metadata": {
        "id": "RMBPl6iC2E5H"
      },
      "execution_count": null,
      "outputs": []
    },
    {
      "cell_type": "markdown",
      "source": [
        "# How to save and load NumPy objects"
      ],
      "metadata": {
        "id": "wU-uTd4W2HFY"
      }
    },
    {
      "cell_type": "code",
      "source": [],
      "metadata": {
        "id": "PgUpPb372J7U"
      },
      "execution_count": null,
      "outputs": []
    },
    {
      "cell_type": "markdown",
      "source": [
        "# Importing and exporting a CSV"
      ],
      "metadata": {
        "id": "Olsgacg12MeQ"
      }
    },
    {
      "cell_type": "code",
      "source": [],
      "metadata": {
        "id": "7zoBrPzW2OOW"
      },
      "execution_count": null,
      "outputs": []
    },
    {
      "cell_type": "markdown",
      "source": [
        "# Plotting arrays with Matplotlib"
      ],
      "metadata": {
        "id": "9vz3A0R12Q1a"
      }
    },
    {
      "cell_type": "code",
      "source": [],
      "metadata": {
        "id": "mSpjos3w2TgJ"
      },
      "execution_count": null,
      "outputs": []
    },
    {
      "cell_type": "code",
      "source": [],
      "metadata": {
        "id": "u9vo0v4c3FLm"
      },
      "execution_count": null,
      "outputs": []
    }
  ]
}